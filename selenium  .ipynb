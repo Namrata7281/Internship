{
 "cells": [
  {
   "cell_type": "code",
   "execution_count": 105,
   "id": "2a2a5d9b",
   "metadata": {},
   "outputs": [
    {
     "name": "stdout",
     "output_type": "stream",
     "text": [
      "Defaulting to user installation because normal site-packages is not writeable\n",
      "Requirement already satisfied: selenium in c:\\users\\lokes\\appdata\\roaming\\python\\python38\\site-packages (4.1.0)\n",
      "Requirement already satisfied: trio~=0.17 in c:\\users\\lokes\\appdata\\roaming\\python\\python38\\site-packages (from selenium) (0.19.0)\n",
      "Requirement already satisfied: urllib3[secure]~=1.26 in c:\\users\\nams1\\lib\\site-packages (from selenium) (1.26.4)\n",
      "Requirement already satisfied: trio-websocket~=0.9 in c:\\users\\lokes\\appdata\\roaming\\python\\python38\\site-packages (from selenium) (0.9.2)\n",
      "Requirement already satisfied: outcome in c:\\users\\lokes\\appdata\\roaming\\python\\python38\\site-packages (from trio~=0.17->selenium) (1.1.0)\n",
      "Requirement already satisfied: idna in c:\\users\\nams1\\lib\\site-packages (from trio~=0.17->selenium) (2.10)\n",
      "Requirement already satisfied: async-generator>=1.9 in c:\\users\\nams1\\lib\\site-packages (from trio~=0.17->selenium) (1.10)\n",
      "Requirement already satisfied: cffi>=1.14 in c:\\users\\nams1\\lib\\site-packages (from trio~=0.17->selenium) (1.14.5)\n",
      "Requirement already satisfied: sniffio in c:\\users\\nams1\\lib\\site-packages (from trio~=0.17->selenium) (1.2.0)\n",
      "Requirement already satisfied: sortedcontainers in c:\\users\\nams1\\lib\\site-packages (from trio~=0.17->selenium) (2.3.0)\n",
      "Requirement already satisfied: attrs>=19.2.0 in c:\\users\\nams1\\lib\\site-packages (from trio~=0.17->selenium) (20.3.0)\n",
      "Requirement already satisfied: pycparser in c:\\users\\nams1\\lib\\site-packages (from cffi>=1.14->trio~=0.17->selenium) (2.20)\n",
      "Requirement already satisfied: wsproto>=0.14 in c:\\users\\lokes\\appdata\\roaming\\python\\python38\\site-packages (from trio-websocket~=0.9->selenium) (1.0.0)\n",
      "Requirement already satisfied: cryptography>=1.3.4 in c:\\users\\nams1\\lib\\site-packages (from urllib3[secure]~=1.26->selenium) (3.4.7)\n",
      "Requirement already satisfied: pyOpenSSL>=0.14 in c:\\users\\nams1\\lib\\site-packages (from urllib3[secure]~=1.26->selenium) (20.0.1)\n",
      "Requirement already satisfied: certifi in c:\\users\\nams1\\lib\\site-packages (from urllib3[secure]~=1.26->selenium) (2020.12.5)\n",
      "Requirement already satisfied: six>=1.5.2 in c:\\users\\nams1\\lib\\site-packages (from pyOpenSSL>=0.14->urllib3[secure]~=1.26->selenium) (1.15.0)\n",
      "Requirement already satisfied: h11<1,>=0.9.0 in c:\\users\\lokes\\appdata\\roaming\\python\\python38\\site-packages (from wsproto>=0.14->trio-websocket~=0.9->selenium) (0.13.0)\n"
     ]
    }
   ],
   "source": [
    "!pip install selenium"
   ]
  },
  {
   "cell_type": "code",
   "execution_count": 106,
   "id": "b86707b9",
   "metadata": {},
   "outputs": [],
   "source": [
    "import selenium\n",
    "from selenium import webdriver\n",
    "import pandas as pd\n",
    "import time\n",
    "import warnings\n",
    "warnings.filterwarnings(\"ignore\")"
   ]
  },
  {
   "cell_type": "code",
   "execution_count": 1,
   "id": "a423bc64",
   "metadata": {},
   "outputs": [],
   "source": []
  },
  {
   "cell_type": "code",
   "execution_count": 104,
   "id": "a38267ec",
   "metadata": {},
   "outputs": [],
   "source": [
    "url = 'https://www.naukri.com/'\n",
    "driver.get(url)"
   ]
  },
  {
   "cell_type": "code",
   "execution_count": 80,
   "id": "488e233c",
   "metadata": {},
   "outputs": [
    {
     "data": {
      "text/plain": [
       "<selenium.webdriver.remote.webelement.WebElement (session=\"482434287316583b5e416b03c898cb0f\", element=\"67f7fea3-56a1-4b1c-a894-ccc083fbc744\")>"
      ]
     },
     "execution_count": 80,
     "metadata": {},
     "output_type": "execute_result"
    }
   ],
   "source": [
    "search_job = driver.find_element_by_class_name('suggestor-input')\n",
    "search_job"
   ]
  },
  {
   "cell_type": "code",
   "execution_count": 81,
   "id": "61c6eb91",
   "metadata": {},
   "outputs": [],
   "source": [
    "search_job.send_keys(\"Data Analyst\")"
   ]
  },
  {
   "cell_type": "code",
   "execution_count": 82,
   "id": "acece0bf",
   "metadata": {},
   "outputs": [
    {
     "data": {
      "text/plain": [
       "<selenium.webdriver.remote.webelement.WebElement (session=\"482434287316583b5e416b03c898cb0f\", element=\"7031633e-0fbe-4921-8d4d-14086485b62a\")>"
      ]
     },
     "execution_count": 82,
     "metadata": {},
     "output_type": "execute_result"
    }
   ],
   "source": [
    "search_locn = driver.find_element_by_xpath('/html/body/div/div[2]/div[3]/div/div/div[3]/div/div/div/input')\n",
    "search_locn"
   ]
  },
  {
   "cell_type": "code",
   "execution_count": 83,
   "id": "86561215",
   "metadata": {},
   "outputs": [],
   "source": [
    "search_locn.send_keys(\"Banglore\")"
   ]
  },
  {
   "cell_type": "code",
   "execution_count": 84,
   "id": "dbf871f8",
   "metadata": {},
   "outputs": [
    {
     "data": {
      "text/plain": [
       "<selenium.webdriver.remote.webelement.WebElement (session=\"482434287316583b5e416b03c898cb0f\", element=\"13ea0b80-828b-46ae-b205-0507886ced93\")>"
      ]
     },
     "execution_count": 84,
     "metadata": {},
     "output_type": "execute_result"
    }
   ],
   "source": [
    "search_btn = driver.find_element_by_class_name(\"qsbSubmit\")\n",
    "search_btn"
   ]
  },
  {
   "cell_type": "code",
   "execution_count": 85,
   "id": "7302d1bd",
   "metadata": {
    "scrolled": true
   },
   "outputs": [],
   "source": [
    "search_btn.click()"
   ]
  },
  {
   "cell_type": "code",
   "execution_count": 86,
   "id": "4050253c",
   "metadata": {},
   "outputs": [],
   "source": [
    "# extract all the job titles\n",
    "job_titles = driver.find_elements_by_xpath('//a[@class=\"title fw500 ellipsis\"]')\n",
    "titles = []\n",
    "for i in job_titles[:10]:\n",
    "    titles.append(i.text)"
   ]
  },
  {
   "cell_type": "code",
   "execution_count": 87,
   "id": "225c2039",
   "metadata": {},
   "outputs": [
    {
     "data": {
      "text/plain": [
       "[<selenium.webdriver.remote.webelement.WebElement (session=\"482434287316583b5e416b03c898cb0f\", element=\"f5f50a80-4b20-46f4-9f48-52513805dd39\")>,\n",
       " <selenium.webdriver.remote.webelement.WebElement (session=\"482434287316583b5e416b03c898cb0f\", element=\"47428b89-005f-469d-a1d7-84ebd07f21d5\")>,\n",
       " <selenium.webdriver.remote.webelement.WebElement (session=\"482434287316583b5e416b03c898cb0f\", element=\"a304564b-389b-4009-9ebd-33a07bfbd62f\")>,\n",
       " <selenium.webdriver.remote.webelement.WebElement (session=\"482434287316583b5e416b03c898cb0f\", element=\"2dec6069-6d02-4b74-bc67-4963446f1b0a\")>,\n",
       " <selenium.webdriver.remote.webelement.WebElement (session=\"482434287316583b5e416b03c898cb0f\", element=\"8c0b7649-b6c5-4a27-825b-3f042438c2da\")>,\n",
       " <selenium.webdriver.remote.webelement.WebElement (session=\"482434287316583b5e416b03c898cb0f\", element=\"298f2bdc-0a74-44a0-bd15-077acfe6c3f2\")>,\n",
       " <selenium.webdriver.remote.webelement.WebElement (session=\"482434287316583b5e416b03c898cb0f\", element=\"5b4e5b51-aee1-48c8-9a03-177389562518\")>,\n",
       " <selenium.webdriver.remote.webelement.WebElement (session=\"482434287316583b5e416b03c898cb0f\", element=\"ad0b2d4d-8543-4192-a522-c474b023973f\")>,\n",
       " <selenium.webdriver.remote.webelement.WebElement (session=\"482434287316583b5e416b03c898cb0f\", element=\"00169d86-d0c9-4430-8fc7-0ea38530fc73\")>,\n",
       " <selenium.webdriver.remote.webelement.WebElement (session=\"482434287316583b5e416b03c898cb0f\", element=\"8bfe591f-3f5d-4d82-a47a-e7f68e3b25f5\")>,\n",
       " <selenium.webdriver.remote.webelement.WebElement (session=\"482434287316583b5e416b03c898cb0f\", element=\"b18769ac-4113-49f9-8060-375623b78ee9\")>,\n",
       " <selenium.webdriver.remote.webelement.WebElement (session=\"482434287316583b5e416b03c898cb0f\", element=\"0bb87eb1-c7b8-465c-8b84-2cc21dae988d\")>,\n",
       " <selenium.webdriver.remote.webelement.WebElement (session=\"482434287316583b5e416b03c898cb0f\", element=\"ff2f4ce9-b09c-4cc4-bb29-e4095b5562f8\")>,\n",
       " <selenium.webdriver.remote.webelement.WebElement (session=\"482434287316583b5e416b03c898cb0f\", element=\"4ac7b17f-1f36-46ce-a60a-265c0417cf3e\")>,\n",
       " <selenium.webdriver.remote.webelement.WebElement (session=\"482434287316583b5e416b03c898cb0f\", element=\"c7500a05-8522-4413-b988-ebb818797b30\")>,\n",
       " <selenium.webdriver.remote.webelement.WebElement (session=\"482434287316583b5e416b03c898cb0f\", element=\"d38a94c8-fd80-4bb9-b677-96e713f704e4\")>,\n",
       " <selenium.webdriver.remote.webelement.WebElement (session=\"482434287316583b5e416b03c898cb0f\", element=\"6b19c5e8-ffd6-49c2-b07b-84145cc0b3fd\")>,\n",
       " <selenium.webdriver.remote.webelement.WebElement (session=\"482434287316583b5e416b03c898cb0f\", element=\"096ab51a-82ac-4367-9dec-1f2447dc6573\")>,\n",
       " <selenium.webdriver.remote.webelement.WebElement (session=\"482434287316583b5e416b03c898cb0f\", element=\"1024f866-b9f6-4cd9-b4bb-05198ccee15a\")>,\n",
       " <selenium.webdriver.remote.webelement.WebElement (session=\"482434287316583b5e416b03c898cb0f\", element=\"55faaebb-452d-410c-9758-10c091914f14\")>]"
      ]
     },
     "execution_count": 87,
     "metadata": {},
     "output_type": "execute_result"
    }
   ],
   "source": [
    "job_titles"
   ]
  },
  {
   "cell_type": "code",
   "execution_count": 90,
   "id": "85edad67",
   "metadata": {},
   "outputs": [],
   "source": [
    "# extract all the company names\n",
    "job_companies = driver.find_elements_by_xpath('//a[@class=\"subTitle ellipsis fleft\"]')\n",
    "companies = []\n",
    "for i in job_companies[:10]:\n",
    "    companies.append(i.text)"
   ]
  },
  {
   "cell_type": "code",
   "execution_count": 91,
   "id": "d0c0e1e5",
   "metadata": {},
   "outputs": [
    {
     "data": {
      "text/plain": [
       "[<selenium.webdriver.remote.webelement.WebElement (session=\"482434287316583b5e416b03c898cb0f\", element=\"ede76e83-af52-42e0-85ab-2326b4fc93df\")>,\n",
       " <selenium.webdriver.remote.webelement.WebElement (session=\"482434287316583b5e416b03c898cb0f\", element=\"02269122-8b7e-4fb0-939f-01613e751821\")>,\n",
       " <selenium.webdriver.remote.webelement.WebElement (session=\"482434287316583b5e416b03c898cb0f\", element=\"47e0ff9d-0521-4860-ac29-3043843862bd\")>,\n",
       " <selenium.webdriver.remote.webelement.WebElement (session=\"482434287316583b5e416b03c898cb0f\", element=\"2b81a6e2-e5c8-4f17-be04-be633a23d7ff\")>,\n",
       " <selenium.webdriver.remote.webelement.WebElement (session=\"482434287316583b5e416b03c898cb0f\", element=\"f8ad93e9-400b-4989-88e3-4c9b1d7c54b4\")>,\n",
       " <selenium.webdriver.remote.webelement.WebElement (session=\"482434287316583b5e416b03c898cb0f\", element=\"d582ba8e-5afe-4812-a48e-aa0289f928ff\")>,\n",
       " <selenium.webdriver.remote.webelement.WebElement (session=\"482434287316583b5e416b03c898cb0f\", element=\"298db1d9-45f2-4ea7-9bd0-751dfa02ae43\")>,\n",
       " <selenium.webdriver.remote.webelement.WebElement (session=\"482434287316583b5e416b03c898cb0f\", element=\"037561aa-0635-4283-a418-2356a531055a\")>,\n",
       " <selenium.webdriver.remote.webelement.WebElement (session=\"482434287316583b5e416b03c898cb0f\", element=\"cabda56a-692e-44b2-9ff7-1e0c560b2cc7\")>,\n",
       " <selenium.webdriver.remote.webelement.WebElement (session=\"482434287316583b5e416b03c898cb0f\", element=\"74788b98-e9f3-45e8-9e30-d73cf7efcd59\")>,\n",
       " <selenium.webdriver.remote.webelement.WebElement (session=\"482434287316583b5e416b03c898cb0f\", element=\"e5098928-9fef-4458-a47d-0fe476806777\")>,\n",
       " <selenium.webdriver.remote.webelement.WebElement (session=\"482434287316583b5e416b03c898cb0f\", element=\"9c193dad-8ee4-46e7-9475-475953e9ab24\")>,\n",
       " <selenium.webdriver.remote.webelement.WebElement (session=\"482434287316583b5e416b03c898cb0f\", element=\"ef0713e1-e6f5-44e9-874e-a3bab10717ac\")>,\n",
       " <selenium.webdriver.remote.webelement.WebElement (session=\"482434287316583b5e416b03c898cb0f\", element=\"8d628cde-3afa-4408-b3fa-ce36b0c0b4b3\")>,\n",
       " <selenium.webdriver.remote.webelement.WebElement (session=\"482434287316583b5e416b03c898cb0f\", element=\"d6cb6867-ef2b-4bf3-9f88-2e4c963f55ac\")>,\n",
       " <selenium.webdriver.remote.webelement.WebElement (session=\"482434287316583b5e416b03c898cb0f\", element=\"721ba6a5-444b-438e-bb82-68ce82b7aa8a\")>,\n",
       " <selenium.webdriver.remote.webelement.WebElement (session=\"482434287316583b5e416b03c898cb0f\", element=\"4bf3139e-25f9-402e-a974-b51da3d95aa8\")>,\n",
       " <selenium.webdriver.remote.webelement.WebElement (session=\"482434287316583b5e416b03c898cb0f\", element=\"a57c478f-f155-44e0-88b7-fecfeb144f1d\")>,\n",
       " <selenium.webdriver.remote.webelement.WebElement (session=\"482434287316583b5e416b03c898cb0f\", element=\"d0ee6caf-525d-4777-8689-9173c505baec\")>,\n",
       " <selenium.webdriver.remote.webelement.WebElement (session=\"482434287316583b5e416b03c898cb0f\", element=\"47b64c67-a15d-4c65-9ad5-8da9d2495317\")>]"
      ]
     },
     "execution_count": 91,
     "metadata": {},
     "output_type": "execute_result"
    }
   ],
   "source": [
    "job_companies"
   ]
  },
  {
   "cell_type": "code",
   "execution_count": 92,
   "id": "927df1bf",
   "metadata": {},
   "outputs": [],
   "source": [
    "# extract the years of experience needed\n",
    "job_exp = driver.find_elements_by_xpath('//li[@class=\"fleft grey-text br2 placeHolderLi experience\"]')\n",
    "exp = []\n",
    "for i in job_exp[:10]:\n",
    "    exp.append(i.text)"
   ]
  },
  {
   "cell_type": "code",
   "execution_count": 93,
   "id": "a871a14e",
   "metadata": {},
   "outputs": [
    {
     "data": {
      "text/plain": [
       "[<selenium.webdriver.remote.webelement.WebElement (session=\"482434287316583b5e416b03c898cb0f\", element=\"92336c41-f0a4-42c7-91e9-051554d99440\")>,\n",
       " <selenium.webdriver.remote.webelement.WebElement (session=\"482434287316583b5e416b03c898cb0f\", element=\"1a750dc5-0bf9-4aea-bff4-5928496fbc0b\")>,\n",
       " <selenium.webdriver.remote.webelement.WebElement (session=\"482434287316583b5e416b03c898cb0f\", element=\"49749340-595b-4098-8373-ee11b5cbf464\")>,\n",
       " <selenium.webdriver.remote.webelement.WebElement (session=\"482434287316583b5e416b03c898cb0f\", element=\"5cfc1cd2-87ea-4e6c-afea-9e239d979764\")>,\n",
       " <selenium.webdriver.remote.webelement.WebElement (session=\"482434287316583b5e416b03c898cb0f\", element=\"6ffd0612-7fbc-4ddb-98b5-09803461f527\")>,\n",
       " <selenium.webdriver.remote.webelement.WebElement (session=\"482434287316583b5e416b03c898cb0f\", element=\"b3a5b123-3957-4501-95ec-2081a64f084e\")>,\n",
       " <selenium.webdriver.remote.webelement.WebElement (session=\"482434287316583b5e416b03c898cb0f\", element=\"d3abac20-bbe3-4f6f-bbab-5de269709126\")>,\n",
       " <selenium.webdriver.remote.webelement.WebElement (session=\"482434287316583b5e416b03c898cb0f\", element=\"83d5fa61-5684-44c5-91f0-5297bc7e7601\")>,\n",
       " <selenium.webdriver.remote.webelement.WebElement (session=\"482434287316583b5e416b03c898cb0f\", element=\"7a64329f-7b6f-47b3-9ba6-24c4b3f780fb\")>,\n",
       " <selenium.webdriver.remote.webelement.WebElement (session=\"482434287316583b5e416b03c898cb0f\", element=\"c7a39679-0a99-4b29-a804-fdb5ec582dee\")>,\n",
       " <selenium.webdriver.remote.webelement.WebElement (session=\"482434287316583b5e416b03c898cb0f\", element=\"e5392653-2d34-46d3-877c-6359f17d37da\")>,\n",
       " <selenium.webdriver.remote.webelement.WebElement (session=\"482434287316583b5e416b03c898cb0f\", element=\"1ad94716-b845-4f42-96ae-982013d88ba2\")>,\n",
       " <selenium.webdriver.remote.webelement.WebElement (session=\"482434287316583b5e416b03c898cb0f\", element=\"a9ba2a73-d200-4b8a-83f2-5945fe85adfc\")>,\n",
       " <selenium.webdriver.remote.webelement.WebElement (session=\"482434287316583b5e416b03c898cb0f\", element=\"34a6da21-39dc-46de-ad76-5621086df6bb\")>,\n",
       " <selenium.webdriver.remote.webelement.WebElement (session=\"482434287316583b5e416b03c898cb0f\", element=\"d08b2562-d5fa-4ab7-9cc0-add72653982f\")>,\n",
       " <selenium.webdriver.remote.webelement.WebElement (session=\"482434287316583b5e416b03c898cb0f\", element=\"f44ca50f-774d-45ad-9292-efd5dd2e07e1\")>,\n",
       " <selenium.webdriver.remote.webelement.WebElement (session=\"482434287316583b5e416b03c898cb0f\", element=\"9d36abed-767c-42fb-b63c-de990b9975f9\")>,\n",
       " <selenium.webdriver.remote.webelement.WebElement (session=\"482434287316583b5e416b03c898cb0f\", element=\"55f415c3-5877-4a38-9f1e-51bc21924f70\")>,\n",
       " <selenium.webdriver.remote.webelement.WebElement (session=\"482434287316583b5e416b03c898cb0f\", element=\"a196a141-d08a-4071-98c5-e367847b81f5\")>,\n",
       " <selenium.webdriver.remote.webelement.WebElement (session=\"482434287316583b5e416b03c898cb0f\", element=\"81028101-c896-4a5b-8399-b87ae08f2d66\")>]"
      ]
     },
     "execution_count": 93,
     "metadata": {},
     "output_type": "execute_result"
    }
   ],
   "source": [
    "job_exp"
   ]
  },
  {
   "cell_type": "code",
   "execution_count": 94,
   "id": "bf32ae9c",
   "metadata": {},
   "outputs": [],
   "source": [
    "# extract all the job locations including Bangalore and the others with it\n",
    "job_locations = driver.find_elements_by_xpath('//li[@class=\"fleft grey-text br2 placeHolderLi location\"]//span')\n",
    "location = []\n",
    "for i in job_locations[:10]:\n",
    "    location.append(i.text)"
   ]
  },
  {
   "cell_type": "code",
   "execution_count": 95,
   "id": "8a63edd3",
   "metadata": {},
   "outputs": [
    {
     "data": {
      "text/plain": [
       "[<selenium.webdriver.remote.webelement.WebElement (session=\"482434287316583b5e416b03c898cb0f\", element=\"dc44f739-b633-4101-ae19-8c879fc1b774\")>,\n",
       " <selenium.webdriver.remote.webelement.WebElement (session=\"482434287316583b5e416b03c898cb0f\", element=\"1a4460f7-cc51-4c4a-80f0-5691239fb8f2\")>,\n",
       " <selenium.webdriver.remote.webelement.WebElement (session=\"482434287316583b5e416b03c898cb0f\", element=\"f739ccc6-66ce-451f-8772-09476259a36c\")>,\n",
       " <selenium.webdriver.remote.webelement.WebElement (session=\"482434287316583b5e416b03c898cb0f\", element=\"0d6696b0-13c2-4f9f-ac64-6553546942ea\")>,\n",
       " <selenium.webdriver.remote.webelement.WebElement (session=\"482434287316583b5e416b03c898cb0f\", element=\"d0552dd6-63e3-458c-9bbd-eb3a1b0e957c\")>,\n",
       " <selenium.webdriver.remote.webelement.WebElement (session=\"482434287316583b5e416b03c898cb0f\", element=\"ed0172fe-81af-45a7-bb43-f8ace7aca40f\")>,\n",
       " <selenium.webdriver.remote.webelement.WebElement (session=\"482434287316583b5e416b03c898cb0f\", element=\"8fa937b3-1f16-4af1-8b7d-061c7c3d54d9\")>,\n",
       " <selenium.webdriver.remote.webelement.WebElement (session=\"482434287316583b5e416b03c898cb0f\", element=\"f79caf3b-1286-4619-93d5-e42e8f9da5fd\")>,\n",
       " <selenium.webdriver.remote.webelement.WebElement (session=\"482434287316583b5e416b03c898cb0f\", element=\"59ea168a-deae-4137-9dc1-2e1057d085ee\")>,\n",
       " <selenium.webdriver.remote.webelement.WebElement (session=\"482434287316583b5e416b03c898cb0f\", element=\"9aee829e-1782-47ad-a9a9-2395436c7453\")>,\n",
       " <selenium.webdriver.remote.webelement.WebElement (session=\"482434287316583b5e416b03c898cb0f\", element=\"38dd4589-ae7e-4684-9897-4865044791c7\")>,\n",
       " <selenium.webdriver.remote.webelement.WebElement (session=\"482434287316583b5e416b03c898cb0f\", element=\"3d49cb23-e5a1-4046-9dbc-1181ac5280cf\")>,\n",
       " <selenium.webdriver.remote.webelement.WebElement (session=\"482434287316583b5e416b03c898cb0f\", element=\"2cfae28a-05cc-4819-a87b-1237261dc66e\")>,\n",
       " <selenium.webdriver.remote.webelement.WebElement (session=\"482434287316583b5e416b03c898cb0f\", element=\"4cf8e0ff-8e82-4743-8fba-900f60d4ff69\")>,\n",
       " <selenium.webdriver.remote.webelement.WebElement (session=\"482434287316583b5e416b03c898cb0f\", element=\"1fb69864-e8a5-48ed-a249-b1644fe8f757\")>,\n",
       " <selenium.webdriver.remote.webelement.WebElement (session=\"482434287316583b5e416b03c898cb0f\", element=\"73c010aa-2c50-4374-b826-c87fdcc8db71\")>,\n",
       " <selenium.webdriver.remote.webelement.WebElement (session=\"482434287316583b5e416b03c898cb0f\", element=\"ed5f7ad1-7ca3-417b-8f48-b32946e1d19e\")>,\n",
       " <selenium.webdriver.remote.webelement.WebElement (session=\"482434287316583b5e416b03c898cb0f\", element=\"2d7af522-dfe5-4142-ac68-281fac1cf4fe\")>,\n",
       " <selenium.webdriver.remote.webelement.WebElement (session=\"482434287316583b5e416b03c898cb0f\", element=\"4c90b39d-35ff-46f9-b7c9-3eb6e53b6afe\")>,\n",
       " <selenium.webdriver.remote.webelement.WebElement (session=\"482434287316583b5e416b03c898cb0f\", element=\"ed6d2d4c-5d40-40a8-b836-9670c4c3cee8\")>]"
      ]
     },
     "execution_count": 95,
     "metadata": {},
     "output_type": "execute_result"
    }
   ],
   "source": [
    "job_locations"
   ]
  },
  {
   "cell_type": "code",
   "execution_count": 96,
   "id": "aef87cee",
   "metadata": {
    "scrolled": true
   },
   "outputs": [
    {
     "name": "stdout",
     "output_type": "stream",
     "text": [
      "Lengths of columns: 10 10 10 10\n"
     ]
    },
    {
     "data": {
      "text/html": [
       "<div>\n",
       "<style scoped>\n",
       "    .dataframe tbody tr th:only-of-type {\n",
       "        vertical-align: middle;\n",
       "    }\n",
       "\n",
       "    .dataframe tbody tr th {\n",
       "        vertical-align: top;\n",
       "    }\n",
       "\n",
       "    .dataframe thead th {\n",
       "        text-align: right;\n",
       "    }\n",
       "</style>\n",
       "<table border=\"1\" class=\"dataframe\">\n",
       "  <thead>\n",
       "    <tr style=\"text-align: right;\">\n",
       "      <th></th>\n",
       "      <th>Job Title</th>\n",
       "      <th>Company Names</th>\n",
       "      <th>Years of experience required</th>\n",
       "      <th>Job Locations</th>\n",
       "    </tr>\n",
       "  </thead>\n",
       "  <tbody>\n",
       "    <tr>\n",
       "      <th>0</th>\n",
       "      <td>Senior Data Analyst II</td>\n",
       "      <td>Flipkart</td>\n",
       "      <td>2-4 Yrs</td>\n",
       "      <td>Bangalore/Bengaluru</td>\n",
       "    </tr>\n",
       "    <tr>\n",
       "      <th>1</th>\n",
       "      <td>Senior Data Analyst</td>\n",
       "      <td>Flipkart</td>\n",
       "      <td>2-3 Yrs</td>\n",
       "      <td>Bangalore/Bengaluru</td>\n",
       "    </tr>\n",
       "    <tr>\n",
       "      <th>2</th>\n",
       "      <td>Hiring -Data Analyst, Business Analyst, MIS An...</td>\n",
       "      <td>Flipkart</td>\n",
       "      <td>1-6 Yrs</td>\n",
       "      <td>Bangalore/Bengaluru</td>\n",
       "    </tr>\n",
       "    <tr>\n",
       "      <th>3</th>\n",
       "      <td>Global Tax Automation &amp; Operations - Data Scie...</td>\n",
       "      <td>Dell</td>\n",
       "      <td>3-5 Yrs</td>\n",
       "      <td>Bangalore/Bengaluru</td>\n",
       "    </tr>\n",
       "    <tr>\n",
       "      <th>4</th>\n",
       "      <td>Data Analyst</td>\n",
       "      <td>GSK India</td>\n",
       "      <td>3-8 Yrs</td>\n",
       "      <td>Bangalore/Bengaluru</td>\n",
       "    </tr>\n",
       "    <tr>\n",
       "      <th>5</th>\n",
       "      <td>Business Analyst (Data Analyst role)</td>\n",
       "      <td>Xpheno</td>\n",
       "      <td>2-5 Yrs</td>\n",
       "      <td>Mumbai, Hyderabad/Secunderabad, Pune, Chennai,...</td>\n",
       "    </tr>\n",
       "    <tr>\n",
       "      <th>6</th>\n",
       "      <td>Senior Data Analyst</td>\n",
       "      <td>Liventus</td>\n",
       "      <td>5-8 Yrs</td>\n",
       "      <td>Remote</td>\n",
       "    </tr>\n",
       "    <tr>\n",
       "      <th>7</th>\n",
       "      <td>Data Analyst</td>\n",
       "      <td>Flipkart</td>\n",
       "      <td>1-2 Yrs</td>\n",
       "      <td>Bangalore/Bengaluru</td>\n",
       "    </tr>\n",
       "    <tr>\n",
       "      <th>8</th>\n",
       "      <td>Data Analyst</td>\n",
       "      <td>Flipkart</td>\n",
       "      <td>1-2 Yrs</td>\n",
       "      <td>Bangalore/Bengaluru</td>\n",
       "    </tr>\n",
       "    <tr>\n",
       "      <th>9</th>\n",
       "      <td>Data Analyst</td>\n",
       "      <td>Shell</td>\n",
       "      <td>2-7 Yrs</td>\n",
       "      <td>Bangalore/Bengaluru</td>\n",
       "    </tr>\n",
       "  </tbody>\n",
       "</table>\n",
       "</div>"
      ],
      "text/plain": [
       "                                           Job Title Company Names  \\\n",
       "0                             Senior Data Analyst II      Flipkart   \n",
       "1                                Senior Data Analyst      Flipkart   \n",
       "2  Hiring -Data Analyst, Business Analyst, MIS An...      Flipkart   \n",
       "3  Global Tax Automation & Operations - Data Scie...          Dell   \n",
       "4                                       Data Analyst     GSK India   \n",
       "5               Business Analyst (Data Analyst role)        Xpheno   \n",
       "6                                Senior Data Analyst      Liventus   \n",
       "7                                       Data Analyst      Flipkart   \n",
       "8                                       Data Analyst      Flipkart   \n",
       "9                                       Data Analyst         Shell   \n",
       "\n",
       "  Years of experience required  \\\n",
       "0                      2-4 Yrs   \n",
       "1                      2-3 Yrs   \n",
       "2                      1-6 Yrs   \n",
       "3                      3-5 Yrs   \n",
       "4                      3-8 Yrs   \n",
       "5                      2-5 Yrs   \n",
       "6                      5-8 Yrs   \n",
       "7                      1-2 Yrs   \n",
       "8                      1-2 Yrs   \n",
       "9                      2-7 Yrs   \n",
       "\n",
       "                                       Job Locations  \n",
       "0                                Bangalore/Bengaluru  \n",
       "1                                Bangalore/Bengaluru  \n",
       "2                                Bangalore/Bengaluru  \n",
       "3                                Bangalore/Bengaluru  \n",
       "4                                Bangalore/Bengaluru  \n",
       "5  Mumbai, Hyderabad/Secunderabad, Pune, Chennai,...  \n",
       "6                                             Remote  \n",
       "7                                Bangalore/Bengaluru  \n",
       "8                                Bangalore/Bengaluru  \n",
       "9                                Bangalore/Bengaluru  "
      ]
     },
     "execution_count": 96,
     "metadata": {},
     "output_type": "execute_result"
    }
   ],
   "source": [
    "# checking the length to get data frame\n",
    "print(\"Lengths of columns:\", len(titles), len(companies), len(exp), len(location))\n",
    "\n",
    "# creating the dataframe now\n",
    "df = pd.DataFrame({})\n",
    "df['Job Title']=titles\n",
    "df['Company Names']=companies\n",
    "df['Years of experience required']=exp\n",
    "df['Job Locations']=location\n",
    "df"
   ]
  },
  {
   "cell_type": "code",
   "execution_count": 97,
   "id": "9237b566",
   "metadata": {},
   "outputs": [],
   "source": [
    "#question 2"
   ]
  },
  {
   "cell_type": "code",
   "execution_count": 183,
   "id": "2f20e31a",
   "metadata": {},
   "outputs": [],
   "source": [
    "# getting the naukri portal url on the web driver\n",
    "url = \"https://www.naukri.com/\"\n",
    "driver.get(url)\n"
   ]
  },
  {
   "cell_type": "code",
   "execution_count": 184,
   "id": "a367fe32",
   "metadata": {},
   "outputs": [
    {
     "data": {
      "text/plain": [
       "<selenium.webdriver.remote.webelement.WebElement (session=\"8800f4eec8bee1ed69fa99ec56641eda\", element=\"f89ea90b-6789-43d7-9b84-67254149a9a5\")>"
      ]
     },
     "execution_count": 184,
     "metadata": {},
     "output_type": "execute_result"
    }
   ],
   "source": [
    "# code to write Data Scientist on search box\n",
    "search_job = driver.find_element_by_class_name('suggestor-input')\n",
    "search_job\n"
   ]
  },
  {
   "cell_type": "code",
   "execution_count": 185,
   "id": "4a4df6ae",
   "metadata": {},
   "outputs": [],
   "source": [
    "search_job.send_keys(\"Data Scientist\")"
   ]
  },
  {
   "cell_type": "code",
   "execution_count": 186,
   "id": "f6a9a400",
   "metadata": {},
   "outputs": [
    {
     "data": {
      "text/plain": [
       "<selenium.webdriver.remote.webelement.WebElement (session=\"8800f4eec8bee1ed69fa99ec56641eda\", element=\"e7fd08c7-2572-4853-b1ef-738f39721bed\")>"
      ]
     },
     "execution_count": 186,
     "metadata": {},
     "output_type": "execute_result"
    }
   ],
   "source": [
    "# code to write Bangalore in location box\n",
    "search_loc = driver.find_element_by_xpath('/html/body/div/div[2]/div[3]/div/div/div[3]/div/div/div/input')\n",
    "search_loc\n"
   ]
  },
  {
   "cell_type": "code",
   "execution_count": 187,
   "id": "21c156c6",
   "metadata": {},
   "outputs": [],
   "source": [
    "search_loc.send_keys(\"Bangalore\")"
   ]
  },
  {
   "cell_type": "code",
   "execution_count": 188,
   "id": "d1e136e2",
   "metadata": {},
   "outputs": [],
   "source": [
    "# code to click on the search button\n",
    "search_btn = driver.find_element_by_class_name('qsbSubmit')\n",
    "search_btn.click()"
   ]
  },
  {
   "cell_type": "code",
   "execution_count": 189,
   "id": "cc9c88e4",
   "metadata": {},
   "outputs": [],
   "source": [
    "# extract all the job titles\n",
    "job_titles = driver.find_elements_by_xpath('//a[@class=\"title fw500 ellipsis\"]')\n",
    "titles = []\n",
    "for i in job_titles[:10]:\n",
    "    titles.append(i.text)"
   ]
  },
  {
   "cell_type": "code",
   "execution_count": 190,
   "id": "cd0e0eeb",
   "metadata": {},
   "outputs": [
    {
     "data": {
      "text/plain": [
       "[<selenium.webdriver.remote.webelement.WebElement (session=\"8800f4eec8bee1ed69fa99ec56641eda\", element=\"66128256-39c5-479c-8aa3-16d1ead4cdcf\")>,\n",
       " <selenium.webdriver.remote.webelement.WebElement (session=\"8800f4eec8bee1ed69fa99ec56641eda\", element=\"3ac54068-0595-4d65-9675-3a2c87850a25\")>,\n",
       " <selenium.webdriver.remote.webelement.WebElement (session=\"8800f4eec8bee1ed69fa99ec56641eda\", element=\"104bd183-d47b-4303-a4a5-dfdf6d249688\")>,\n",
       " <selenium.webdriver.remote.webelement.WebElement (session=\"8800f4eec8bee1ed69fa99ec56641eda\", element=\"305c6d00-8054-4185-9e0b-3f68cc616145\")>,\n",
       " <selenium.webdriver.remote.webelement.WebElement (session=\"8800f4eec8bee1ed69fa99ec56641eda\", element=\"f3206f16-a143-4973-b7d8-df8f1defb043\")>,\n",
       " <selenium.webdriver.remote.webelement.WebElement (session=\"8800f4eec8bee1ed69fa99ec56641eda\", element=\"a43baf7e-0545-4719-a84f-99016cc40e59\")>,\n",
       " <selenium.webdriver.remote.webelement.WebElement (session=\"8800f4eec8bee1ed69fa99ec56641eda\", element=\"2d7ad92a-3aa7-42be-90e9-611966bd2043\")>,\n",
       " <selenium.webdriver.remote.webelement.WebElement (session=\"8800f4eec8bee1ed69fa99ec56641eda\", element=\"c4c1d3b9-b2b9-446a-9716-d47f9925ae29\")>,\n",
       " <selenium.webdriver.remote.webelement.WebElement (session=\"8800f4eec8bee1ed69fa99ec56641eda\", element=\"6a515724-3c9f-492d-8925-5a392a5af3ed\")>,\n",
       " <selenium.webdriver.remote.webelement.WebElement (session=\"8800f4eec8bee1ed69fa99ec56641eda\", element=\"39964a9c-7c87-4856-86e0-015b4a766b6a\")>,\n",
       " <selenium.webdriver.remote.webelement.WebElement (session=\"8800f4eec8bee1ed69fa99ec56641eda\", element=\"514f1d9d-20b4-4ba8-b4ed-21bbd79275eb\")>,\n",
       " <selenium.webdriver.remote.webelement.WebElement (session=\"8800f4eec8bee1ed69fa99ec56641eda\", element=\"6b32667a-c982-4654-8277-98f49bf22425\")>,\n",
       " <selenium.webdriver.remote.webelement.WebElement (session=\"8800f4eec8bee1ed69fa99ec56641eda\", element=\"df604555-b9a0-453e-84cf-6d50cee8ddc4\")>,\n",
       " <selenium.webdriver.remote.webelement.WebElement (session=\"8800f4eec8bee1ed69fa99ec56641eda\", element=\"6cabb2d6-c048-43e2-a052-7d1ededf2f57\")>,\n",
       " <selenium.webdriver.remote.webelement.WebElement (session=\"8800f4eec8bee1ed69fa99ec56641eda\", element=\"78c01fa3-44a1-41ca-a579-297c331ca254\")>,\n",
       " <selenium.webdriver.remote.webelement.WebElement (session=\"8800f4eec8bee1ed69fa99ec56641eda\", element=\"4b3af4b4-7621-4fb7-958a-ad8718a14b1e\")>,\n",
       " <selenium.webdriver.remote.webelement.WebElement (session=\"8800f4eec8bee1ed69fa99ec56641eda\", element=\"63cf3030-5726-45a6-9e87-f2c79714ccee\")>,\n",
       " <selenium.webdriver.remote.webelement.WebElement (session=\"8800f4eec8bee1ed69fa99ec56641eda\", element=\"ce11fb81-144e-4279-8453-305279fdb524\")>,\n",
       " <selenium.webdriver.remote.webelement.WebElement (session=\"8800f4eec8bee1ed69fa99ec56641eda\", element=\"ed652a84-9b00-448d-84e0-9df4361a57ae\")>,\n",
       " <selenium.webdriver.remote.webelement.WebElement (session=\"8800f4eec8bee1ed69fa99ec56641eda\", element=\"cf6b8bfb-c86d-4f72-aada-f1134b4767ff\")>]"
      ]
     },
     "execution_count": 190,
     "metadata": {},
     "output_type": "execute_result"
    }
   ],
   "source": [
    "job_titles"
   ]
  },
  {
   "cell_type": "code",
   "execution_count": 191,
   "id": "6ff828bb",
   "metadata": {},
   "outputs": [],
   "source": [
    "# extract all the company names\n",
    "job_companies = driver.find_elements_by_xpath('//a[@class=\"subTitle ellipsis fleft\"]')\n",
    "companies = []\n",
    "for i in job_companies[:10]:\n",
    "    companies.append(i.text)"
   ]
  },
  {
   "cell_type": "code",
   "execution_count": 192,
   "id": "869975ec",
   "metadata": {},
   "outputs": [
    {
     "data": {
      "text/plain": [
       "[<selenium.webdriver.remote.webelement.WebElement (session=\"8800f4eec8bee1ed69fa99ec56641eda\", element=\"d9c08ac0-4afe-49ee-a557-d50a3e37e1d8\")>,\n",
       " <selenium.webdriver.remote.webelement.WebElement (session=\"8800f4eec8bee1ed69fa99ec56641eda\", element=\"14b2a6de-d23c-466b-940a-b0ff7fa22cbc\")>,\n",
       " <selenium.webdriver.remote.webelement.WebElement (session=\"8800f4eec8bee1ed69fa99ec56641eda\", element=\"bc11372f-d53a-4018-80af-6225bf6e11db\")>,\n",
       " <selenium.webdriver.remote.webelement.WebElement (session=\"8800f4eec8bee1ed69fa99ec56641eda\", element=\"3a74735c-465b-418d-946f-938daa20da6b\")>,\n",
       " <selenium.webdriver.remote.webelement.WebElement (session=\"8800f4eec8bee1ed69fa99ec56641eda\", element=\"d2e6f01b-6695-404a-931a-138e92373c5b\")>,\n",
       " <selenium.webdriver.remote.webelement.WebElement (session=\"8800f4eec8bee1ed69fa99ec56641eda\", element=\"985f72bd-276f-4b69-8dc8-a0d47be1fb13\")>,\n",
       " <selenium.webdriver.remote.webelement.WebElement (session=\"8800f4eec8bee1ed69fa99ec56641eda\", element=\"324a8013-ecdb-41fa-a711-3f210393f54c\")>,\n",
       " <selenium.webdriver.remote.webelement.WebElement (session=\"8800f4eec8bee1ed69fa99ec56641eda\", element=\"a7941bb0-7064-4cae-a59f-d79800c61369\")>,\n",
       " <selenium.webdriver.remote.webelement.WebElement (session=\"8800f4eec8bee1ed69fa99ec56641eda\", element=\"a2874b91-277b-43d5-bda7-e2c0da79f49c\")>,\n",
       " <selenium.webdriver.remote.webelement.WebElement (session=\"8800f4eec8bee1ed69fa99ec56641eda\", element=\"471a5c6a-360c-46a1-81f9-6e5733bd4714\")>,\n",
       " <selenium.webdriver.remote.webelement.WebElement (session=\"8800f4eec8bee1ed69fa99ec56641eda\", element=\"dd4ff4d6-b4c6-4ac2-a311-2ffa05a38bdd\")>,\n",
       " <selenium.webdriver.remote.webelement.WebElement (session=\"8800f4eec8bee1ed69fa99ec56641eda\", element=\"31836d0b-7476-4bf9-a395-68fd03da1558\")>,\n",
       " <selenium.webdriver.remote.webelement.WebElement (session=\"8800f4eec8bee1ed69fa99ec56641eda\", element=\"8e8d777c-d8a5-401a-867f-b6dea015c0ac\")>,\n",
       " <selenium.webdriver.remote.webelement.WebElement (session=\"8800f4eec8bee1ed69fa99ec56641eda\", element=\"68f28056-c5d8-4ebe-9c8a-1504cc33bd58\")>,\n",
       " <selenium.webdriver.remote.webelement.WebElement (session=\"8800f4eec8bee1ed69fa99ec56641eda\", element=\"1fedbfdd-b835-4062-b9ad-03f3d00b0509\")>,\n",
       " <selenium.webdriver.remote.webelement.WebElement (session=\"8800f4eec8bee1ed69fa99ec56641eda\", element=\"455b69b4-5988-4a29-89cf-c4be3642e959\")>,\n",
       " <selenium.webdriver.remote.webelement.WebElement (session=\"8800f4eec8bee1ed69fa99ec56641eda\", element=\"1f95273a-3082-460c-8eac-dd809817c340\")>,\n",
       " <selenium.webdriver.remote.webelement.WebElement (session=\"8800f4eec8bee1ed69fa99ec56641eda\", element=\"78da52ef-6358-41eb-a148-2491ce6f049f\")>,\n",
       " <selenium.webdriver.remote.webelement.WebElement (session=\"8800f4eec8bee1ed69fa99ec56641eda\", element=\"9142f52f-4bf2-4e70-8bf9-6851c8eb9236\")>,\n",
       " <selenium.webdriver.remote.webelement.WebElement (session=\"8800f4eec8bee1ed69fa99ec56641eda\", element=\"237206c1-35bb-43d2-b0fd-da80bff18161\")>]"
      ]
     },
     "execution_count": 192,
     "metadata": {},
     "output_type": "execute_result"
    }
   ],
   "source": [
    "job_companies"
   ]
  },
  {
   "cell_type": "code",
   "execution_count": 193,
   "id": "e7a56038",
   "metadata": {},
   "outputs": [],
   "source": [
    "# extract all the job locations including Bangalore and the others with it\n",
    "job_locations = driver.find_elements_by_xpath('//li[@class=\"fleft grey-text br2 placeHolderLi location\"]//span')\n",
    "location = []\n",
    "for i in job_locations[:10]:\n",
    "    location.append(i.text)"
   ]
  },
  {
   "cell_type": "code",
   "execution_count": 194,
   "id": "03f9176d",
   "metadata": {},
   "outputs": [
    {
     "data": {
      "text/plain": [
       "[<selenium.webdriver.remote.webelement.WebElement (session=\"8800f4eec8bee1ed69fa99ec56641eda\", element=\"bdf9c2ba-68d3-416c-8ef1-eb0444bd92aa\")>,\n",
       " <selenium.webdriver.remote.webelement.WebElement (session=\"8800f4eec8bee1ed69fa99ec56641eda\", element=\"ec5e4cc9-8c2e-452b-af88-d14a82e1ac00\")>,\n",
       " <selenium.webdriver.remote.webelement.WebElement (session=\"8800f4eec8bee1ed69fa99ec56641eda\", element=\"43293c3b-608b-4e6b-af89-a2e5347fd437\")>,\n",
       " <selenium.webdriver.remote.webelement.WebElement (session=\"8800f4eec8bee1ed69fa99ec56641eda\", element=\"acbae4d7-cbe2-4a33-b54f-285286018e5f\")>,\n",
       " <selenium.webdriver.remote.webelement.WebElement (session=\"8800f4eec8bee1ed69fa99ec56641eda\", element=\"95e1f285-2826-4b43-8a18-aaa1545c4b9b\")>,\n",
       " <selenium.webdriver.remote.webelement.WebElement (session=\"8800f4eec8bee1ed69fa99ec56641eda\", element=\"f8873796-48cf-4a55-aca7-757606bac8c7\")>,\n",
       " <selenium.webdriver.remote.webelement.WebElement (session=\"8800f4eec8bee1ed69fa99ec56641eda\", element=\"313c0593-b086-4b4a-990c-74224d23b63b\")>,\n",
       " <selenium.webdriver.remote.webelement.WebElement (session=\"8800f4eec8bee1ed69fa99ec56641eda\", element=\"ccff6c57-2a95-4135-bd3e-e35950d6447e\")>,\n",
       " <selenium.webdriver.remote.webelement.WebElement (session=\"8800f4eec8bee1ed69fa99ec56641eda\", element=\"0a0f7b6d-5e91-4220-9c44-6dd9ac740f62\")>,\n",
       " <selenium.webdriver.remote.webelement.WebElement (session=\"8800f4eec8bee1ed69fa99ec56641eda\", element=\"e3c05eac-0f86-4366-aee3-e0b93834e6e5\")>,\n",
       " <selenium.webdriver.remote.webelement.WebElement (session=\"8800f4eec8bee1ed69fa99ec56641eda\", element=\"69eb7b94-113d-4e01-bb27-6a4e8405f551\")>,\n",
       " <selenium.webdriver.remote.webelement.WebElement (session=\"8800f4eec8bee1ed69fa99ec56641eda\", element=\"74314f49-0f0d-41ef-b26b-f6e218f96bff\")>,\n",
       " <selenium.webdriver.remote.webelement.WebElement (session=\"8800f4eec8bee1ed69fa99ec56641eda\", element=\"f39ebc24-c01d-47fe-af25-09dd3920d5ae\")>,\n",
       " <selenium.webdriver.remote.webelement.WebElement (session=\"8800f4eec8bee1ed69fa99ec56641eda\", element=\"ccb26866-d1d3-4fbe-bbf5-0193195d31e3\")>,\n",
       " <selenium.webdriver.remote.webelement.WebElement (session=\"8800f4eec8bee1ed69fa99ec56641eda\", element=\"57861c40-4394-4376-be98-87ceeca83b09\")>,\n",
       " <selenium.webdriver.remote.webelement.WebElement (session=\"8800f4eec8bee1ed69fa99ec56641eda\", element=\"881fd552-0a5b-4d5c-81b6-08d79545e550\")>,\n",
       " <selenium.webdriver.remote.webelement.WebElement (session=\"8800f4eec8bee1ed69fa99ec56641eda\", element=\"9fbb3305-cc04-4a5a-a912-66aed5badb6c\")>,\n",
       " <selenium.webdriver.remote.webelement.WebElement (session=\"8800f4eec8bee1ed69fa99ec56641eda\", element=\"b1a21f79-62e5-462d-b633-0bbaad034228\")>,\n",
       " <selenium.webdriver.remote.webelement.WebElement (session=\"8800f4eec8bee1ed69fa99ec56641eda\", element=\"493a4245-17f6-412c-94af-5e9df4ee0296\")>,\n",
       " <selenium.webdriver.remote.webelement.WebElement (session=\"8800f4eec8bee1ed69fa99ec56641eda\", element=\"7afa8170-cd15-4a7e-9ce7-c1e081b60ec1\")>,\n",
       " <selenium.webdriver.remote.webelement.WebElement (session=\"8800f4eec8bee1ed69fa99ec56641eda\", element=\"7774f352-6aa4-48d9-aa52-1027f9741717\")>]"
      ]
     },
     "execution_count": 194,
     "metadata": {},
     "output_type": "execute_result"
    }
   ],
   "source": [
    "job_locations"
   ]
  },
  {
   "cell_type": "code",
   "execution_count": 195,
   "id": "aa639c34",
   "metadata": {},
   "outputs": [
    {
     "name": "stdout",
     "output_type": "stream",
     "text": [
      "Lengths of columns: 10 10 10\n"
     ]
    },
    {
     "data": {
      "text/html": [
       "<div>\n",
       "<style scoped>\n",
       "    .dataframe tbody tr th:only-of-type {\n",
       "        vertical-align: middle;\n",
       "    }\n",
       "\n",
       "    .dataframe tbody tr th {\n",
       "        vertical-align: top;\n",
       "    }\n",
       "\n",
       "    .dataframe thead th {\n",
       "        text-align: right;\n",
       "    }\n",
       "</style>\n",
       "<table border=\"1\" class=\"dataframe\">\n",
       "  <thead>\n",
       "    <tr style=\"text-align: right;\">\n",
       "      <th></th>\n",
       "      <th>Job Title</th>\n",
       "      <th>Company Names</th>\n",
       "      <th>Job Locations</th>\n",
       "    </tr>\n",
       "  </thead>\n",
       "  <tbody>\n",
       "    <tr>\n",
       "      <th>0</th>\n",
       "      <td>Global Tax Automation &amp; Operations - Data Scie...</td>\n",
       "      <td>Dell</td>\n",
       "      <td>Bangalore/Bengaluru</td>\n",
       "    </tr>\n",
       "    <tr>\n",
       "      <th>1</th>\n",
       "      <td>Senior Data Scientist I</td>\n",
       "      <td>Delhivery</td>\n",
       "      <td>Bangalore/Bengaluru</td>\n",
       "    </tr>\n",
       "    <tr>\n",
       "      <th>2</th>\n",
       "      <td>Data Scientist / Analyst</td>\n",
       "      <td>Talentify</td>\n",
       "      <td>Hyderabad/Secunderabad, Bangalore/Bengaluru, D...</td>\n",
       "    </tr>\n",
       "    <tr>\n",
       "      <th>3</th>\n",
       "      <td>Data Scientist: Advanced Analytics</td>\n",
       "      <td>IBM</td>\n",
       "      <td>Bangalore/Bengaluru</td>\n",
       "    </tr>\n",
       "    <tr>\n",
       "      <th>4</th>\n",
       "      <td>Data Scientist: Artificial Intelligence</td>\n",
       "      <td>IBM</td>\n",
       "      <td>Bangalore/Bengaluru</td>\n",
       "    </tr>\n",
       "    <tr>\n",
       "      <th>5</th>\n",
       "      <td>Global Tax Automation &amp; Operations / Data Scie...</td>\n",
       "      <td>Dell</td>\n",
       "      <td>Bangalore/Bengaluru</td>\n",
       "    </tr>\n",
       "    <tr>\n",
       "      <th>6</th>\n",
       "      <td>Data Scientist</td>\n",
       "      <td>IBM</td>\n",
       "      <td>Bangalore/Bengaluru</td>\n",
       "    </tr>\n",
       "    <tr>\n",
       "      <th>7</th>\n",
       "      <td>Data Scientist: Artificial Intelligence</td>\n",
       "      <td>IBM</td>\n",
       "      <td>Bangalore/Bengaluru</td>\n",
       "    </tr>\n",
       "    <tr>\n",
       "      <th>8</th>\n",
       "      <td>Data Scientist I</td>\n",
       "      <td>Delhivery</td>\n",
       "      <td>Bangalore/Bengaluru</td>\n",
       "    </tr>\n",
       "    <tr>\n",
       "      <th>9</th>\n",
       "      <td>Data Scientist: Artificial Intelligence</td>\n",
       "      <td>IBM</td>\n",
       "      <td>Bangalore/Bengaluru</td>\n",
       "    </tr>\n",
       "  </tbody>\n",
       "</table>\n",
       "</div>"
      ],
      "text/plain": [
       "                                           Job Title Company Names  \\\n",
       "0  Global Tax Automation & Operations - Data Scie...          Dell   \n",
       "1                            Senior Data Scientist I     Delhivery   \n",
       "2                           Data Scientist / Analyst     Talentify   \n",
       "3                 Data Scientist: Advanced Analytics           IBM   \n",
       "4            Data Scientist: Artificial Intelligence           IBM   \n",
       "5  Global Tax Automation & Operations / Data Scie...          Dell   \n",
       "6                                     Data Scientist           IBM   \n",
       "7            Data Scientist: Artificial Intelligence           IBM   \n",
       "8                                   Data Scientist I     Delhivery   \n",
       "9            Data Scientist: Artificial Intelligence           IBM   \n",
       "\n",
       "                                       Job Locations  \n",
       "0                                Bangalore/Bengaluru  \n",
       "1                                Bangalore/Bengaluru  \n",
       "2  Hyderabad/Secunderabad, Bangalore/Bengaluru, D...  \n",
       "3                                Bangalore/Bengaluru  \n",
       "4                                Bangalore/Bengaluru  \n",
       "5                                Bangalore/Bengaluru  \n",
       "6                                Bangalore/Bengaluru  \n",
       "7                                Bangalore/Bengaluru  \n",
       "8                                Bangalore/Bengaluru  \n",
       "9                                Bangalore/Bengaluru  "
      ]
     },
     "execution_count": 195,
     "metadata": {},
     "output_type": "execute_result"
    }
   ],
   "source": [
    "# checking the length to get data frame\n",
    "print(\"Lengths of columns:\", len(titles), len(companies), len(location))\n",
    "\n",
    "# creating the dataframe now\n",
    "df = pd.DataFrame({})\n",
    "df['Job Title']=titles\n",
    "df['Company Names']=companies\n",
    "df['Job Locations']=location\n",
    "df"
   ]
  },
  {
   "cell_type": "code",
   "execution_count": 69,
   "id": "2998f124",
   "metadata": {},
   "outputs": [],
   "source": [
    "# getting the naukri portal url on the web driver\n",
    "url = \"https://www.naukri.com/\"\n",
    "driver.get(url)"
   ]
  },
  {
   "cell_type": "code",
   "execution_count": 70,
   "id": "9d08cf29",
   "metadata": {},
   "outputs": [
    {
     "data": {
      "text/plain": [
       "<selenium.webdriver.remote.webelement.WebElement (session=\"867fd202dc8e70c72ac0322a28b42dd9\", element=\"5a57d537-1caa-42b3-8517-9441b0abc0a7\")>"
      ]
     },
     "execution_count": 70,
     "metadata": {},
     "output_type": "execute_result"
    }
   ],
   "source": [
    "# code to write Data Scientist on search box\n",
    "search_job = driver.find_element_by_class_name('suggestor-input')\n",
    "search_job\n"
   ]
  },
  {
   "cell_type": "code",
   "execution_count": 71,
   "id": "199b8570",
   "metadata": {},
   "outputs": [],
   "source": [
    "search_job.send_keys(\"Data Scientist\")"
   ]
  },
  {
   "cell_type": "code",
   "execution_count": 72,
   "id": "d2e79c22",
   "metadata": {},
   "outputs": [],
   "source": [
    "# code to click on the search button\n",
    "search_btn = driver.find_element_by_class_name(\"qsbSubmit\")\n",
    "search_btn.click()"
   ]
  },
  {
   "cell_type": "code",
   "execution_count": 79,
   "id": "c9498024",
   "metadata": {},
   "outputs": [],
   "source": [
    "# code to click on the location filter for \"Delhi/NCR\"\n",
    "location_filter = driver.find_element_by_xpath(\"/html/body/div[1]/div[3]/div[2]/section[1]/div[2]/div[3]/div[2]/div[3]/label/i\")\n",
    "location_filter.click()"
   ]
  },
  {
   "cell_type": "code",
   "execution_count": 80,
   "id": "9a4d413e",
   "metadata": {},
   "outputs": [],
   "source": [
    "# code to click on the salary filter for \"3-6 Lakhs\"\n",
    "salary_filter = driver.find_element_by_xpath('/html/body/div[1]/div[3]/div[2]/section[1]/div[2]/div[4]/div[2]/div[2]/label/i')\n",
    "salary_filter.click()"
   ]
  },
  {
   "cell_type": "code",
   "execution_count": 81,
   "id": "1550b8dc",
   "metadata": {},
   "outputs": [],
   "source": [
    "# extract all the job titles\n",
    "j_title = driver.find_elements_by_xpath('//a[@class=\"title fw500 ellipsis\"]')\n",
    "f_title = []\n",
    "for i in j_title[:10]:\n",
    "    f_title.append(i.text)\n"
   ]
  },
  {
   "cell_type": "code",
   "execution_count": 82,
   "id": "150d36c0",
   "metadata": {},
   "outputs": [],
   "source": [
    "# extract all the company names\n",
    "j_company = driver.find_elements_by_xpath('//a[@class=\"subTitle ellipsis fleft\"]')\n",
    "f_company = []\n",
    "for i in j_company[:10]:\n",
    "    f_company.append(i.text)"
   ]
  },
  {
   "cell_type": "code",
   "execution_count": 83,
   "id": "28526776",
   "metadata": {},
   "outputs": [],
   "source": [
    "# extract the years of experience needed\n",
    "j_exp = driver.find_elements_by_xpath('//li[@class=\"fleft grey-text br2 placeHolderLi experience\"]')\n",
    "f_exp = []\n",
    "for i in j_exp[:10]:\n",
    "    f_exp.append(i.text)\n"
   ]
  },
  {
   "cell_type": "code",
   "execution_count": 84,
   "id": "abebcc3e",
   "metadata": {},
   "outputs": [],
   "source": [
    "# extract all the job locations including Bangalore and the others with it\n",
    "j_location = driver.find_elements_by_xpath('//li[@class=\"fleft grey-text br2 placeHolderLi location\"]//span')\n",
    "f_location = []\n",
    "for i in j_location[:10]:\n",
    "    f_location.append(i.text)"
   ]
  },
  {
   "cell_type": "code",
   "execution_count": 85,
   "id": "19cf51e5",
   "metadata": {},
   "outputs": [
    {
     "name": "stdout",
     "output_type": "stream",
     "text": [
      "Lengths of columns: 10 10 10 10\n"
     ]
    }
   ],
   "source": [
    "# checking the length for getting the data frame\n",
    "print(\"Lengths of columns:\", len(f_title), len(f_company), len(f_exp), len(f_location))\n"
   ]
  },
  {
   "cell_type": "code",
   "execution_count": 86,
   "id": "ff95e5c1",
   "metadata": {},
   "outputs": [
    {
     "data": {
      "text/html": [
       "<div>\n",
       "<style scoped>\n",
       "    .dataframe tbody tr th:only-of-type {\n",
       "        vertical-align: middle;\n",
       "    }\n",
       "\n",
       "    .dataframe tbody tr th {\n",
       "        vertical-align: top;\n",
       "    }\n",
       "\n",
       "    .dataframe thead th {\n",
       "        text-align: right;\n",
       "    }\n",
       "</style>\n",
       "<table border=\"1\" class=\"dataframe\">\n",
       "  <thead>\n",
       "    <tr style=\"text-align: right;\">\n",
       "      <th></th>\n",
       "      <th>Job Title</th>\n",
       "      <th>Company Names</th>\n",
       "      <th>Years of experience required</th>\n",
       "      <th>Job Locations</th>\n",
       "    </tr>\n",
       "  </thead>\n",
       "  <tbody>\n",
       "    <tr>\n",
       "      <th>0</th>\n",
       "      <td>Opening For Data Scientist</td>\n",
       "      <td>Care Health Insurance</td>\n",
       "      <td>1-5 Yrs</td>\n",
       "      <td>Gurgaon/Gurugram</td>\n",
       "    </tr>\n",
       "    <tr>\n",
       "      <th>1</th>\n",
       "      <td>Data Scientist II</td>\n",
       "      <td>Chegg</td>\n",
       "      <td>2-6 Yrs</td>\n",
       "      <td>Delhi / NCR</td>\n",
       "    </tr>\n",
       "    <tr>\n",
       "      <th>2</th>\n",
       "      <td>Data Scientist</td>\n",
       "      <td>Stefanini</td>\n",
       "      <td>3-8 Yrs</td>\n",
       "      <td>Noida</td>\n",
       "    </tr>\n",
       "    <tr>\n",
       "      <th>3</th>\n",
       "      <td>Junior Data Scientist - Goods &amp; Service Tax Ne...</td>\n",
       "      <td>NISG (National Institute for Smart Government)</td>\n",
       "      <td>3-8 Yrs</td>\n",
       "      <td>Delhi / NCR</td>\n",
       "    </tr>\n",
       "    <tr>\n",
       "      <th>4</th>\n",
       "      <td>Associate Data Scientist - Java/ Scala/ Apache...</td>\n",
       "      <td>Smart work Consultants</td>\n",
       "      <td>1-4 Yrs</td>\n",
       "      <td>Noida</td>\n",
       "    </tr>\n",
       "    <tr>\n",
       "      <th>5</th>\n",
       "      <td>Data Scientist</td>\n",
       "      <td>Cloudstrats Technologies Private Limited</td>\n",
       "      <td>3-5 Yrs</td>\n",
       "      <td>New Delhi, Delhi / NCR, Mumbai (All Areas)</td>\n",
       "    </tr>\n",
       "    <tr>\n",
       "      <th>6</th>\n",
       "      <td>Data Scientist</td>\n",
       "      <td>Zekardo Automotive Solutions</td>\n",
       "      <td>5-8 Yrs</td>\n",
       "      <td>Gurgaon/Gurugram</td>\n",
       "    </tr>\n",
       "    <tr>\n",
       "      <th>7</th>\n",
       "      <td>Data Scientist</td>\n",
       "      <td>Team Computers Pvt Ltd</td>\n",
       "      <td>2-6 Yrs</td>\n",
       "      <td>(WFH during Covid)</td>\n",
       "    </tr>\n",
       "    <tr>\n",
       "      <th>8</th>\n",
       "      <td>Data Scientist / Senior DS/ Team Lead</td>\n",
       "      <td>NebulARC Technologies Private Limited</td>\n",
       "      <td>0-4 Yrs</td>\n",
       "      <td>New Delhi</td>\n",
       "    </tr>\n",
       "    <tr>\n",
       "      <th>9</th>\n",
       "      <td>Data Scientist (ML AI Engineer) / InfoObjects ...</td>\n",
       "      <td>INFOOBJECTS SOFTWARE ( INDIA) PRIVATE LIMITED</td>\n",
       "      <td>3-7 Yrs</td>\n",
       "      <td>Mumbai, Gurgaon/Gurugram(Cyber City +1)</td>\n",
       "    </tr>\n",
       "  </tbody>\n",
       "</table>\n",
       "</div>"
      ],
      "text/plain": [
       "                                           Job Title  \\\n",
       "0                         Opening For Data Scientist   \n",
       "1                                  Data Scientist II   \n",
       "2                                     Data Scientist   \n",
       "3  Junior Data Scientist - Goods & Service Tax Ne...   \n",
       "4  Associate Data Scientist - Java/ Scala/ Apache...   \n",
       "5                                     Data Scientist   \n",
       "6                                     Data Scientist   \n",
       "7                                     Data Scientist   \n",
       "8              Data Scientist / Senior DS/ Team Lead   \n",
       "9  Data Scientist (ML AI Engineer) / InfoObjects ...   \n",
       "\n",
       "                                    Company Names  \\\n",
       "0                           Care Health Insurance   \n",
       "1                                           Chegg   \n",
       "2                                       Stefanini   \n",
       "3  NISG (National Institute for Smart Government)   \n",
       "4                          Smart work Consultants   \n",
       "5        Cloudstrats Technologies Private Limited   \n",
       "6                    Zekardo Automotive Solutions   \n",
       "7                          Team Computers Pvt Ltd   \n",
       "8           NebulARC Technologies Private Limited   \n",
       "9   INFOOBJECTS SOFTWARE ( INDIA) PRIVATE LIMITED   \n",
       "\n",
       "  Years of experience required                               Job Locations  \n",
       "0                      1-5 Yrs                            Gurgaon/Gurugram  \n",
       "1                      2-6 Yrs                                 Delhi / NCR  \n",
       "2                      3-8 Yrs                                       Noida  \n",
       "3                      3-8 Yrs                                 Delhi / NCR  \n",
       "4                      1-4 Yrs                                       Noida  \n",
       "5                      3-5 Yrs  New Delhi, Delhi / NCR, Mumbai (All Areas)  \n",
       "6                      5-8 Yrs                            Gurgaon/Gurugram  \n",
       "7                      2-6 Yrs                          (WFH during Covid)  \n",
       "8                      0-4 Yrs                                   New Delhi  \n",
       "9                      3-7 Yrs     Mumbai, Gurgaon/Gurugram(Cyber City +1)  "
      ]
     },
     "execution_count": 86,
     "metadata": {},
     "output_type": "execute_result"
    }
   ],
   "source": [
    "# creating the data frame now\n",
    "df = pd.DataFrame({})\n",
    "df['Job Title']=f_title\n",
    "df['Company Names']=f_company\n",
    "df['Years of experience required']=f_exp\n",
    "df['Job Locations']=f_location\n",
    "df"
   ]
  },
  {
   "cell_type": "code",
   "execution_count": 224,
   "id": "2bb83374",
   "metadata": {},
   "outputs": [],
   "source": [
    "#Question 4"
   ]
  },
  {
   "cell_type": "code",
   "execution_count": 186,
   "id": "de0d84f4",
   "metadata": {},
   "outputs": [],
   "source": [
    "# getting the flipkart shopping site url on the web driver\n",
    "url = \"https://www.flipkart.com/\"\n",
    "driver.get(url)"
   ]
  },
  {
   "cell_type": "code",
   "execution_count": 187,
   "id": "f7b23e19",
   "metadata": {},
   "outputs": [],
   "source": [
    "# code to write sunglasses in the search box\n",
    "search_prod = driver.find_element_by_xpath('//input[@class=\"_3704LK\"]')\n",
    "search_prod.send_keys(\"Sunglasses\")"
   ]
  },
  {
   "cell_type": "code",
   "execution_count": 188,
   "id": "49f71cdc",
   "metadata": {},
   "outputs": [],
   "source": [
    "#close log_in window\n",
    "log_in_pop_up = driver.find_element_by_xpath(\"/html/body/div[2]/div/div/button\")\n",
    "log_in_pop_up.click()"
   ]
  },
  {
   "cell_type": "code",
   "execution_count": 189,
   "id": "3b3ad2cb",
   "metadata": {},
   "outputs": [],
   "source": [
    "# code to click on the search button\n",
    "search_btn = driver.find_element_by_xpath('//button[@class=\"L0Z3Pu\" ]')\n",
    "search_btn.click()"
   ]
  },
  {
   "cell_type": "code",
   "execution_count": 190,
   "id": "f8f4b8e6",
   "metadata": {},
   "outputs": [],
   "source": [
    "# code to extract product description\n",
    "prod_descriptn = driver.find_elements_by_xpath('//a[@class=\"IRpwTa\"]')\n",
    "descriptn = []\n",
    "for i in prod_descriptn:\n",
    "    try:\n",
    "        descriptn.append(i.text)\n",
    "    except:\n",
    "        descriptn.appendend(\"No description available\")"
   ]
  },
  {
   "cell_type": "code",
   "execution_count": 191,
   "id": "d3b8ab18",
   "metadata": {},
   "outputs": [],
   "source": [
    "# code to extract brand details\n",
    "prod_brand = driver.find_elements_by_xpath('//div[@class=\"_2WkVRV\"]')\n",
    "brand = []\n",
    "for i in prod_brand:\n",
    "    brand.append(i.text)"
   ]
  },
  {
   "cell_type": "code",
   "execution_count": 192,
   "id": "d2e605ef",
   "metadata": {},
   "outputs": [],
   "source": [
    "# code to extract price of the product\n",
    "prod_price = driver.find_elements_by_xpath('//div[@class=\"_30jeq3\"]')\n",
    "price = []\n",
    "for i in prod_price:\n",
    "    price.append(i.text)"
   ]
  },
  {
   "cell_type": "code",
   "execution_count": 193,
   "id": "e43131f9",
   "metadata": {},
   "outputs": [],
   "source": [
    "# code to extract the discount percentage\n",
    "prod_discount = driver.find_elements_by_xpath('//div[@class=\"_3Ay6Sb\"]//span')\n",
    "discount = []\n",
    "for i in prod_discount:\n",
    "    discount.append(i.text)"
   ]
  },
  {
   "cell_type": "code",
   "execution_count": 194,
   "id": "9e28deb0",
   "metadata": {},
   "outputs": [],
   "source": [
    "# code to click on the next button for page 2\n",
    "search_btn1 = driver.find_element_by_xpath('/html/body/div/div/div[3]/div[1]/div[2]/div[12]/div/div/nav/a[3]')\n",
    "search_btn1.click()"
   ]
  },
  {
   "cell_type": "code",
   "execution_count": 202,
   "id": "cded6228",
   "metadata": {},
   "outputs": [],
   "source": [
    "# code to extract brand details\n",
    "prod_brand = driver.find_elements_by_xpath('/html/body/div/div/div[3]/div[1]/div[2]/div[2]/div/div[1]/div/div/div[1]')\n",
    "for i in prod_brand:\n",
    "    brand.append(i.text)"
   ]
  },
  {
   "cell_type": "code",
   "execution_count": 203,
   "id": "00d6657e",
   "metadata": {},
   "outputs": [],
   "source": [
    "# code to extract product description\n",
    "prod_descriptn = driver.find_elements_by_xpath('//a[@class=\"IRpwTa\"]')\n",
    "for i in prod_descriptn:\n",
    "    try:\n",
    "        descriptn.append(i.text)\n",
    "    except:\n",
    "        descriptn.appendend(\"No description available\")"
   ]
  },
  {
   "cell_type": "code",
   "execution_count": 204,
   "id": "93610e28",
   "metadata": {},
   "outputs": [],
   "source": [
    "# code to extract price of the product\n",
    "prod_price = driver.find_elements_by_xpath('//div[@class=\"_30jeq3\"]')\n",
    "for i in prod_price:\n",
    "    price.append(i.text)"
   ]
  },
  {
   "cell_type": "code",
   "execution_count": 205,
   "id": "18f31ad8",
   "metadata": {},
   "outputs": [],
   "source": [
    "# code to extract the discount percentage\n",
    "prod_discount = driver.find_elements_by_xpath('//div[@class=\"_3Ay6Sb\"]//span')\n",
    "for i in prod_discount:\n",
    "    discount.append(i.text)"
   ]
  },
  {
   "cell_type": "code",
   "execution_count": 206,
   "id": "ab6a04ef",
   "metadata": {},
   "outputs": [],
   "source": [
    "# code to click on the next button for page 3\n",
    "search_btn2 = driver.find_element_by_xpath('/html/body/div/div/div[3]/div[1]/div[2]/div[12]/div/div/nav/a[4]')\n",
    "search_btn2.click()"
   ]
  },
  {
   "cell_type": "code",
   "execution_count": 207,
   "id": "af4295f0",
   "metadata": {},
   "outputs": [],
   "source": [
    "# code to extract brand details\n",
    "prod_brand = driver.find_elements_by_xpath('//div[@class=\"_2WkVRV\"]')\n",
    "for i in prod_brand:\n",
    "    brand.append(i.text)"
   ]
  },
  {
   "cell_type": "code",
   "execution_count": 208,
   "id": "aa1f579f",
   "metadata": {},
   "outputs": [],
   "source": [
    "# code to extract product description\n",
    "prod_descriptn = driver.find_elements_by_xpath('//a[@class=\"IRpwTa\"]')\n",
    "for i in prod_descriptn:\n",
    "    try:\n",
    "        descriptn.append(i.text)\n",
    "    except:\n",
    "        descriptn.append(\"No description available\")\n"
   ]
  },
  {
   "cell_type": "code",
   "execution_count": 209,
   "id": "ac0a3a41",
   "metadata": {},
   "outputs": [],
   "source": [
    "# code to extract price of the product\n",
    "prod_price = driver.find_elements_by_xpath('//div[@class=\"_30jeq3\"]')\n",
    "for i in prod_price:\n",
    "    price.append(i.text)\n"
   ]
  },
  {
   "cell_type": "code",
   "execution_count": 210,
   "id": "24a6fed3",
   "metadata": {},
   "outputs": [],
   "source": [
    "# code to extract the discount percentage\n",
    "prod_discount = driver.find_elements_by_xpath('//div[@class=\"_3Ay6Sb\"]//span')\n",
    "for i in prod_discount:\n",
    "    discount.append(i.text)"
   ]
  },
  {
   "cell_type": "code",
   "execution_count": 211,
   "id": "66f2db6b",
   "metadata": {},
   "outputs": [
    {
     "name": "stdout",
     "output_type": "stream",
     "text": [
      "Lengths of columns: 130 120 160 160\n"
     ]
    },
    {
     "data": {
      "text/html": [
       "<div>\n",
       "<style scoped>\n",
       "    .dataframe tbody tr th:only-of-type {\n",
       "        vertical-align: middle;\n",
       "    }\n",
       "\n",
       "    .dataframe tbody tr th {\n",
       "        vertical-align: top;\n",
       "    }\n",
       "\n",
       "    .dataframe thead th {\n",
       "        text-align: right;\n",
       "    }\n",
       "</style>\n",
       "<table border=\"1\" class=\"dataframe\">\n",
       "  <thead>\n",
       "    <tr style=\"text-align: right;\">\n",
       "      <th></th>\n",
       "      <th>Sunglasses Brand</th>\n",
       "      <th>Sunglasses Description</th>\n",
       "      <th>Sunglasses Price</th>\n",
       "      <th>Sunglasses Discount</th>\n",
       "    </tr>\n",
       "  </thead>\n",
       "  <tbody>\n",
       "    <tr>\n",
       "      <th>0</th>\n",
       "      <td>Badfella</td>\n",
       "      <td>UV Protection, Mirrored Clubmaster Sunglasses ...</td>\n",
       "      <td>₹199</td>\n",
       "      <td>80% off</td>\n",
       "    </tr>\n",
       "    <tr>\n",
       "      <th>1</th>\n",
       "      <td>VILLAIN</td>\n",
       "      <td>UV Protection Round Sunglasses (Free Size)</td>\n",
       "      <td>₹1,099</td>\n",
       "      <td>37% off</td>\n",
       "    </tr>\n",
       "    <tr>\n",
       "      <th>2</th>\n",
       "      <td>Elligator</td>\n",
       "      <td>UV Protection Aviator Sunglasses (Free Size)</td>\n",
       "      <td>₹248</td>\n",
       "      <td>90% off</td>\n",
       "    </tr>\n",
       "    <tr>\n",
       "      <th>3</th>\n",
       "      <td>Fastrack</td>\n",
       "      <td>UV Protection, Gradient Retro Square Sunglasse...</td>\n",
       "      <td>₹639</td>\n",
       "      <td>20% off</td>\n",
       "    </tr>\n",
       "    <tr>\n",
       "      <th>4</th>\n",
       "      <td>SUNBEE</td>\n",
       "      <td>UV Protection Aviator Sunglasses (Free Size)</td>\n",
       "      <td>₹271</td>\n",
       "      <td>84% off</td>\n",
       "    </tr>\n",
       "    <tr>\n",
       "      <th>...</th>\n",
       "      <td>...</td>\n",
       "      <td>...</td>\n",
       "      <td>...</td>\n",
       "      <td>...</td>\n",
       "    </tr>\n",
       "    <tr>\n",
       "      <th>95</th>\n",
       "      <td>PIRASO</td>\n",
       "      <td>by Lenskart UV Protection Aviator Sunglasses (53)</td>\n",
       "      <td>₹849</td>\n",
       "      <td>57% off</td>\n",
       "    </tr>\n",
       "    <tr>\n",
       "      <th>96</th>\n",
       "      <td>PHENOMENAL</td>\n",
       "      <td>UV Protection Retro Square Sunglasses (58)</td>\n",
       "      <td>₹449</td>\n",
       "      <td>70% off</td>\n",
       "    </tr>\n",
       "    <tr>\n",
       "      <th>97</th>\n",
       "      <td>PIRASO</td>\n",
       "      <td>UV Protection Wayfarer Sunglasses (53)</td>\n",
       "      <td>₹167</td>\n",
       "      <td>88% off</td>\n",
       "    </tr>\n",
       "    <tr>\n",
       "      <th>98</th>\n",
       "      <td>kingsunglasses</td>\n",
       "      <td>UV Protection, Mirrored Retro Square Sunglasse...</td>\n",
       "      <td>₹299</td>\n",
       "      <td>85% off</td>\n",
       "    </tr>\n",
       "    <tr>\n",
       "      <th>99</th>\n",
       "      <td>Fastrack</td>\n",
       "      <td>UV Protection Butterfly Sunglasses (60)</td>\n",
       "      <td>₹349</td>\n",
       "      <td>86% off</td>\n",
       "    </tr>\n",
       "  </tbody>\n",
       "</table>\n",
       "<p>100 rows × 4 columns</p>\n",
       "</div>"
      ],
      "text/plain": [
       "   Sunglasses Brand                             Sunglasses Description  \\\n",
       "0          Badfella  UV Protection, Mirrored Clubmaster Sunglasses ...   \n",
       "1           VILLAIN         UV Protection Round Sunglasses (Free Size)   \n",
       "2         Elligator       UV Protection Aviator Sunglasses (Free Size)   \n",
       "3          Fastrack  UV Protection, Gradient Retro Square Sunglasse...   \n",
       "4            SUNBEE       UV Protection Aviator Sunglasses (Free Size)   \n",
       "..              ...                                                ...   \n",
       "95           PIRASO  by Lenskart UV Protection Aviator Sunglasses (53)   \n",
       "96       PHENOMENAL         UV Protection Retro Square Sunglasses (58)   \n",
       "97           PIRASO             UV Protection Wayfarer Sunglasses (53)   \n",
       "98   kingsunglasses  UV Protection, Mirrored Retro Square Sunglasse...   \n",
       "99         Fastrack            UV Protection Butterfly Sunglasses (60)   \n",
       "\n",
       "   Sunglasses Price Sunglasses Discount  \n",
       "0              ₹199             80% off  \n",
       "1            ₹1,099             37% off  \n",
       "2              ₹248             90% off  \n",
       "3              ₹639             20% off  \n",
       "4              ₹271             84% off  \n",
       "..              ...                 ...  \n",
       "95             ₹849             57% off  \n",
       "96             ₹449             70% off  \n",
       "97             ₹167             88% off  \n",
       "98             ₹299             85% off  \n",
       "99             ₹349             86% off  \n",
       "\n",
       "[100 rows x 4 columns]"
      ]
     },
     "execution_count": 211,
     "metadata": {},
     "output_type": "execute_result"
    }
   ],
   "source": [
    "# checking the length to get the data frame\n",
    "print(\"Lengths of columns:\", len(brand), len(descriptn), len(price), len(discount))\n",
    "\n",
    "# creating the data frame now\n",
    "df = pd.DataFrame({})\n",
    "df['Sunglasses Brand']=brand[:100]\n",
    "df['Sunglasses Description']=descriptn[:100]\n",
    "df['Sunglasses Price']=price[:100]\n",
    "df['Sunglasses Discount']=discount[:100]\n",
    "df"
   ]
  },
  {
   "cell_type": "code",
   "execution_count": null,
   "id": "18dec81d",
   "metadata": {},
   "outputs": [],
   "source": [
    "#question  5"
   ]
  },
  {
   "cell_type": "code",
   "execution_count": 81,
   "id": "dc42d6f5",
   "metadata": {},
   "outputs": [],
   "source": [
    "# getting the flipkart shopping site url on the web driver\n",
    "url = \"https://www.flipkart.com/apple-iphone-11-black-64-gb-includes-earpods-power-adapter/product-reviews/itm0f37c2240b217?pid=MOBFKCTSVZAXUHGR&lid=LSTMOBFKCTSVZAXUHGREPBFGI&marketplace=FLIPKART\"\n",
    "driver.get(url)"
   ]
  },
  {
   "cell_type": "code",
   "execution_count": 82,
   "id": "9817c9b3",
   "metadata": {},
   "outputs": [],
   "source": [
    "url = driver.find_elements_by_xpath('//nav[@class=\"yFHi8N\"]//a')\n",
    "\n",
    "# extract all the  search links from the above search result\n",
    "prod_urls=[]\n",
    "for i in url[:11]:\n",
    "    prod_urls.append(i.get_attribute('href'))"
   ]
  },
  {
   "cell_type": "code",
   "execution_count": 83,
   "id": "5c6fdacb",
   "metadata": {},
   "outputs": [
    {
     "name": "stdout",
     "output_type": "stream",
     "text": [
      "Lengths of columns: 104 110 110\n"
     ]
    },
    {
     "data": {
      "text/html": [
       "<div>\n",
       "<style scoped>\n",
       "    .dataframe tbody tr th:only-of-type {\n",
       "        vertical-align: middle;\n",
       "    }\n",
       "\n",
       "    .dataframe tbody tr th {\n",
       "        vertical-align: top;\n",
       "    }\n",
       "\n",
       "    .dataframe thead th {\n",
       "        text-align: right;\n",
       "    }\n",
       "</style>\n",
       "<table border=\"1\" class=\"dataframe\">\n",
       "  <thead>\n",
       "    <tr style=\"text-align: right;\">\n",
       "      <th></th>\n",
       "      <th>iPhone Rating</th>\n",
       "      <th>iPhone Short Summary</th>\n",
       "      <th>iPhone Full Review</th>\n",
       "    </tr>\n",
       "  </thead>\n",
       "  <tbody>\n",
       "    <tr>\n",
       "      <th>0</th>\n",
       "      <td>5</td>\n",
       "      <td>Brilliant</td>\n",
       "      <td>The Best Phone for the Money  The iPhone 11 of...</td>\n",
       "    </tr>\n",
       "    <tr>\n",
       "      <th>1</th>\n",
       "      <td>5</td>\n",
       "      <td>Simply awesome</td>\n",
       "      <td>Really satisfied with the Product I received.....</td>\n",
       "    </tr>\n",
       "    <tr>\n",
       "      <th>2</th>\n",
       "      <td>5</td>\n",
       "      <td>Best in the market!</td>\n",
       "      <td>Great iPhone very snappy experience as apple k...</td>\n",
       "    </tr>\n",
       "    <tr>\n",
       "      <th>3</th>\n",
       "      <td>5</td>\n",
       "      <td>Perfect product!</td>\n",
       "      <td>Amazing phone with great cameras and better ba...</td>\n",
       "    </tr>\n",
       "    <tr>\n",
       "      <th>4</th>\n",
       "      <td>5</td>\n",
       "      <td>Worth every penny</td>\n",
       "      <td>Previously I was using one plus 3t it was a gr...</td>\n",
       "    </tr>\n",
       "    <tr>\n",
       "      <th>...</th>\n",
       "      <td>...</td>\n",
       "      <td>...</td>\n",
       "      <td>...</td>\n",
       "    </tr>\n",
       "    <tr>\n",
       "      <th>95</th>\n",
       "      <td>5</td>\n",
       "      <td>Terrific</td>\n",
       "      <td>I got this beast today. And I must say the pic...</td>\n",
       "    </tr>\n",
       "    <tr>\n",
       "      <th>96</th>\n",
       "      <td>5</td>\n",
       "      <td>Highly recommended</td>\n",
       "      <td>Amazing camera quality as expected, battery al...</td>\n",
       "    </tr>\n",
       "    <tr>\n",
       "      <th>97</th>\n",
       "      <td>5</td>\n",
       "      <td>Must buy!</td>\n",
       "      <td>Dear friends... I want to share my experience ...</td>\n",
       "    </tr>\n",
       "    <tr>\n",
       "      <th>98</th>\n",
       "      <td>5</td>\n",
       "      <td>Must buy!</td>\n",
       "      <td>Camera is excellent just lack of telephoto mod...</td>\n",
       "    </tr>\n",
       "    <tr>\n",
       "      <th>99</th>\n",
       "      <td>5</td>\n",
       "      <td>Excellent</td>\n",
       "      <td>It was amazing experience for me. Honestly i a...</td>\n",
       "    </tr>\n",
       "  </tbody>\n",
       "</table>\n",
       "<p>100 rows × 3 columns</p>\n",
       "</div>"
      ],
      "text/plain": [
       "   iPhone Rating iPhone Short Summary  \\\n",
       "0              5            Brilliant   \n",
       "1              5       Simply awesome   \n",
       "2              5  Best in the market!   \n",
       "3              5     Perfect product!   \n",
       "4              5    Worth every penny   \n",
       "..           ...                  ...   \n",
       "95             5             Terrific   \n",
       "96             5   Highly recommended   \n",
       "97             5            Must buy!   \n",
       "98             5            Must buy!   \n",
       "99             5            Excellent   \n",
       "\n",
       "                                   iPhone Full Review  \n",
       "0   The Best Phone for the Money  The iPhone 11 of...  \n",
       "1   Really satisfied with the Product I received.....  \n",
       "2   Great iPhone very snappy experience as apple k...  \n",
       "3   Amazing phone with great cameras and better ba...  \n",
       "4   Previously I was using one plus 3t it was a gr...  \n",
       "..                                                ...  \n",
       "95  I got this beast today. And I must say the pic...  \n",
       "96  Amazing camera quality as expected, battery al...  \n",
       "97  Dear friends... I want to share my experience ...  \n",
       "98  Camera is excellent just lack of telephoto mod...  \n",
       "99  It was amazing experience for me. Honestly i a...  \n",
       "\n",
       "[100 rows x 3 columns]"
      ]
     },
     "execution_count": 83,
     "metadata": {},
     "output_type": "execute_result"
    }
   ],
   "source": [
    "# extract all the ratings for the iPhone\n",
    "phone_rating = []\n",
    "for i in prod_urls:\n",
    "    driver.get(i)\n",
    "    try:\n",
    "        prod_rating = driver.find_elements_by_xpath('//div[@class=\"_3LWZlK _1BLPMq\"]')\n",
    "        for j in prod_rating:\n",
    "            phone_rating.append(j.text)\n",
    "    except:\n",
    "        phone_rating.append(\"---\")\n",
    "\n",
    "# extract all the review summary for the iPhone\n",
    "phone_summary = []\n",
    "for i in prod_urls:\n",
    "    driver.get(i)\n",
    "    try:\n",
    "        prod_summaries = driver.find_elements_by_xpath('//p[@class=\"_2-N8zT\"]')\n",
    "        for j in prod_summaries:\n",
    "            phone_summary.append(j.text)\n",
    "    except:\n",
    "        phone_summary.append(\"---\")\n",
    "\n",
    "# extract all the complete descriptive review for the iPhone\n",
    "full_review = []\n",
    "for i in prod_urls:\n",
    "    driver.get(i)\n",
    "    try:\n",
    "        prod_reviews = driver.find_elements_by_xpath('//div[@class=\"t-ZTKy\"]')\n",
    "        for j in prod_reviews:\n",
    "            full_review.append(j.text.replace(\"\\n\",\" \"))\n",
    "    except:\n",
    "        full_review.append(\"---\")\n",
    "# checking the length to get the data frame\n",
    "print(\"Lengths of columns:\", len(phone_rating), len(phone_summary), len(full_review))\n",
    "\n",
    "# creating the data frame now\n",
    "df = pd.DataFrame({})\n",
    "df['iPhone Rating']=phone_rating[:100]\n",
    "df['iPhone Short Summary']=phone_summary[:100]\n",
    "df['iPhone Full Review']=full_review[:100]\n",
    "df\n"
   ]
  },
  {
   "cell_type": "code",
   "execution_count": 153,
   "id": "ce61f92d",
   "metadata": {},
   "outputs": [],
   "source": [
    "\n",
    "#QUESTION 6\n",
    "\n",
    "\n",
    "\n",
    "\n",
    "# getting the flipkart shopping site url on the web driver\n",
    "url = \"https://www.flipkart.com/\"\n",
    "driver.get(url)\n",
    "\n",
    "\n",
    "\n",
    "\n",
    "\n",
    "#close log_in window\n",
    "#log_in_pop_up = driver.find_element_by_xpath('//body[@class=\"fk-modal-visible\"]')\n",
    "#log_in_pop_up.click()\n",
    "\n",
    "\n",
    "# code to write sneakers in the search box\n",
    "search_prod = driver.find_element_by_xpath('//input[@class=\"_3704LK\"]')\n",
    "search_prod.send_keys(\"Sneakers\")\n",
    "\n",
    "\n",
    "\n",
    "\n",
    "# code to click on the search button\n",
    "search_btn = driver.find_element_by_xpath('/html/body/div/div/div[1]/div[1]/div[2]/div[2]/form/div/button')\n",
    "search_btn.click()"
   ]
  },
  {
   "cell_type": "code",
   "execution_count": 154,
   "id": "4879d384",
   "metadata": {},
   "outputs": [],
   "source": [
    "url = driver.find_elements_by_xpath('//nav[@class=\"yFHi8N\"]//a')\n",
    "\n",
    "# extract all the product search links from the above search result\n",
    "prod_urls=[]\n",
    "for i in url[:5]:\n",
    "    prod_urls.append(i.get_attribute('href'))"
   ]
  },
  {
   "cell_type": "code",
   "execution_count": 155,
   "id": "98ad6bb8",
   "metadata": {},
   "outputs": [
    {
     "name": "stdout",
     "output_type": "stream",
     "text": [
      "Lengths of columns: 200 156 200 197\n"
     ]
    },
    {
     "data": {
      "text/html": [
       "<div>\n",
       "<style scoped>\n",
       "    .dataframe tbody tr th:only-of-type {\n",
       "        vertical-align: middle;\n",
       "    }\n",
       "\n",
       "    .dataframe tbody tr th {\n",
       "        vertical-align: top;\n",
       "    }\n",
       "\n",
       "    .dataframe thead th {\n",
       "        text-align: right;\n",
       "    }\n",
       "</style>\n",
       "<table border=\"1\" class=\"dataframe\">\n",
       "  <thead>\n",
       "    <tr style=\"text-align: right;\">\n",
       "      <th></th>\n",
       "      <th>Sneaker Brand</th>\n",
       "      <th>Sneaker Description</th>\n",
       "      <th>Sneaker Price</th>\n",
       "      <th>Sneaker Discount</th>\n",
       "    </tr>\n",
       "  </thead>\n",
       "  <tbody>\n",
       "    <tr>\n",
       "      <th>0</th>\n",
       "      <td>BIRDE</td>\n",
       "      <td>Comfortable Stylish New Design Light Weight, B...</td>\n",
       "      <td>₹259</td>\n",
       "      <td>74% off</td>\n",
       "    </tr>\n",
       "    <tr>\n",
       "      <th>1</th>\n",
       "      <td>BIRDE</td>\n",
       "      <td>Comfortable Stylish New Design Light Weight, B...</td>\n",
       "      <td>₹259</td>\n",
       "      <td>74% off</td>\n",
       "    </tr>\n",
       "    <tr>\n",
       "      <th>2</th>\n",
       "      <td>Chevit</td>\n",
       "      <td>Super Stylish &amp; Trendy Combo Pack of 02 Pairs ...</td>\n",
       "      <td>₹649</td>\n",
       "      <td>59% off</td>\n",
       "    </tr>\n",
       "    <tr>\n",
       "      <th>3</th>\n",
       "      <td>BRUTON</td>\n",
       "      <td>Combo Pack Of 4 Casual Shoes Loafer Shoes Snea...</td>\n",
       "      <td>₹599</td>\n",
       "      <td>82% off</td>\n",
       "    </tr>\n",
       "    <tr>\n",
       "      <th>4</th>\n",
       "      <td>BRUTON</td>\n",
       "      <td>Modern Trendy Sneakers Shoes Sneakers For Men</td>\n",
       "      <td>₹259</td>\n",
       "      <td>80% off</td>\n",
       "    </tr>\n",
       "    <tr>\n",
       "      <th>...</th>\n",
       "      <td>...</td>\n",
       "      <td>...</td>\n",
       "      <td>...</td>\n",
       "      <td>...</td>\n",
       "    </tr>\n",
       "    <tr>\n",
       "      <th>95</th>\n",
       "      <td>Trendmode</td>\n",
       "      <td>X-Ray 2 Square Sneakers For Men</td>\n",
       "      <td>₹199</td>\n",
       "      <td>55% off</td>\n",
       "    </tr>\n",
       "    <tr>\n",
       "      <th>96</th>\n",
       "      <td>Ktiz</td>\n",
       "      <td>Sneakers For Men</td>\n",
       "      <td>₹448</td>\n",
       "      <td>61% off</td>\n",
       "    </tr>\n",
       "    <tr>\n",
       "      <th>97</th>\n",
       "      <td>Airland</td>\n",
       "      <td>Sneakers For Men</td>\n",
       "      <td>₹190</td>\n",
       "      <td>54% off</td>\n",
       "    </tr>\n",
       "    <tr>\n",
       "      <th>98</th>\n",
       "      <td>PUMA</td>\n",
       "      <td>Comfortable Stylish New Design Light Weight, B...</td>\n",
       "      <td>₹1,575</td>\n",
       "      <td>75% off</td>\n",
       "    </tr>\n",
       "    <tr>\n",
       "      <th>99</th>\n",
       "      <td>CLYMB</td>\n",
       "      <td>Casual Sneakers Sneakers For Men</td>\n",
       "      <td>₹249</td>\n",
       "      <td>57% off</td>\n",
       "    </tr>\n",
       "  </tbody>\n",
       "</table>\n",
       "<p>100 rows × 4 columns</p>\n",
       "</div>"
      ],
      "text/plain": [
       "   Sneaker Brand                                Sneaker Description  \\\n",
       "0          BIRDE  Comfortable Stylish New Design Light Weight, B...   \n",
       "1          BIRDE  Comfortable Stylish New Design Light Weight, B...   \n",
       "2         Chevit  Super Stylish & Trendy Combo Pack of 02 Pairs ...   \n",
       "3         BRUTON  Combo Pack Of 4 Casual Shoes Loafer Shoes Snea...   \n",
       "4         BRUTON      Modern Trendy Sneakers Shoes Sneakers For Men   \n",
       "..           ...                                                ...   \n",
       "95     Trendmode                    X-Ray 2 Square Sneakers For Men   \n",
       "96          Ktiz                                   Sneakers For Men   \n",
       "97       Airland                                   Sneakers For Men   \n",
       "98          PUMA  Comfortable Stylish New Design Light Weight, B...   \n",
       "99         CLYMB                   Casual Sneakers Sneakers For Men   \n",
       "\n",
       "   Sneaker Price Sneaker Discount  \n",
       "0           ₹259          74% off  \n",
       "1           ₹259          74% off  \n",
       "2           ₹649          59% off  \n",
       "3           ₹599          82% off  \n",
       "4           ₹259          80% off  \n",
       "..           ...              ...  \n",
       "95          ₹199          55% off  \n",
       "96          ₹448          61% off  \n",
       "97          ₹190          54% off  \n",
       "98        ₹1,575          75% off  \n",
       "99          ₹249          57% off  \n",
       "\n",
       "[100 rows x 4 columns]"
      ]
     },
     "execution_count": 155,
     "metadata": {},
     "output_type": "execute_result"
    }
   ],
   "source": [
    "# code to extract brand details\n",
    "brand = []\n",
    "for i in prod_urls:\n",
    "    driver.get(i)\n",
    "    try:\n",
    "        prod_brand = driver.find_elements_by_xpath('//div[@class=\"_2WkVRV\"]')\n",
    "        for j in prod_brand:\n",
    "            brand.append(j.text)\n",
    "    except:\n",
    "        brand.append(\"---\")\n",
    "\n",
    "# code to extract product description\n",
    "descriptn = []\n",
    "for i in prod_urls:\n",
    "    driver.get(i)\n",
    "    try:\n",
    "        prod_descriptn = driver.find_elements_by_xpath('//a[@class=\"IRpwTa\"]')\n",
    "        for j in prod_descriptn:\n",
    "            descriptn.append(j.text)\n",
    "    except:\n",
    "        descriptn.append(\"---\")\n",
    "\n",
    "# code to extract price of the product\n",
    "price = []\n",
    "for i in prod_urls:\n",
    "    driver.get(i)\n",
    "    try:\n",
    "        prod_price = driver.find_elements_by_xpath('//div[@class=\"_30jeq3\"]')\n",
    "        for j in prod_price:\n",
    "            price.append(j.text)\n",
    "    except:\n",
    "        price.append(\"---\")\n",
    "\n",
    "# code to extract the discount percentage\n",
    "discount = []\n",
    "for i in prod_urls:\n",
    "    driver.get(i)\n",
    "    try:\n",
    "        prod_discount = driver.find_elements_by_xpath('//div[@class=\"_3Ay6Sb\"]//span')\n",
    "        for j in prod_discount:\n",
    "            discount.append(j.text)\n",
    "    except:\n",
    "        discount.append(\"---\")\n",
    "\n",
    "# checking the length to get the data frame\n",
    "print(\"Lengths of columns:\", len(brand), len(descriptn), len(price), len(discount))\n",
    "\n",
    "# creating the data frame now\n",
    "df = pd.DataFrame({})\n",
    "df['Sneaker Brand']=brand[:100]\n",
    "df['Sneaker Description']=descriptn[:100]\n",
    "df['Sneaker Price']=price[:100]\n",
    "df['Sneaker Discount']=discount[:100]\n",
    "df"
   ]
  },
  {
   "cell_type": "code",
   "execution_count": 198,
   "id": "2c5b073b",
   "metadata": {},
   "outputs": [],
   "source": [
    "# getting the myntra shoes site url on the web driver\n",
    "url = \"https://www.myntra.com/shoes\"\n",
    "driver.get(url)"
   ]
  },
  {
   "cell_type": "code",
   "execution_count": 199,
   "id": "ded7500f",
   "metadata": {},
   "outputs": [],
   "source": [
    "# code to click on the color filter for \"Black\"\n",
    "color_filter = driver.find_element_by_xpath('/html/body/div[2]/div/div[1]/main/div[3]/div[1]/section/div/div[6]/ul/li[1]/label/div')\n",
    "color_filter.click()"
   ]
  },
  {
   "cell_type": "code",
   "execution_count": 200,
   "id": "069b0843",
   "metadata": {},
   "outputs": [],
   "source": [
    "# code to click on the price filter.\n",
    "price_filter = driver.find_element_by_xpath('/html/body/div[2]/div/div[1]/main/div[3]/div[1]/section/div/div[5]/ul/li[2]/label/div')\n",
    "price_filter.click()"
   ]
  },
  {
   "cell_type": "code",
   "execution_count": 201,
   "id": "5fc22381",
   "metadata": {},
   "outputs": [],
   "source": [
    "url = driver.find_elements_by_xpath('//li[@class=\"pagination-number\"]//a')\n",
    "\n",
    "# extract all the shoe links from the above search result\n",
    "shoe_urls=[]\n",
    "for i in url[:5]:\n",
    "    shoe_urls.append(i.get_attribute('href'))"
   ]
  },
  {
   "cell_type": "code",
   "execution_count": 202,
   "id": "9b2fae90",
   "metadata": {},
   "outputs": [
    {
     "name": "stdout",
     "output_type": "stream",
     "text": [
      "Lengths of columns: 250 250 141\n"
     ]
    },
    {
     "data": {
      "text/html": [
       "<div>\n",
       "<style scoped>\n",
       "    .dataframe tbody tr th:only-of-type {\n",
       "        vertical-align: middle;\n",
       "    }\n",
       "\n",
       "    .dataframe tbody tr th {\n",
       "        vertical-align: top;\n",
       "    }\n",
       "\n",
       "    .dataframe thead th {\n",
       "        text-align: right;\n",
       "    }\n",
       "</style>\n",
       "<table border=\"1\" class=\"dataframe\">\n",
       "  <thead>\n",
       "    <tr style=\"text-align: right;\">\n",
       "      <th></th>\n",
       "      <th>Shoe Brand</th>\n",
       "      <th>Shoe Description</th>\n",
       "      <th>Shoe Price</th>\n",
       "    </tr>\n",
       "  </thead>\n",
       "  <tbody>\n",
       "    <tr>\n",
       "      <th>0</th>\n",
       "      <td>Puma</td>\n",
       "      <td>Men Running Shoes</td>\n",
       "      <td>Rs. 7149</td>\n",
       "    </tr>\n",
       "    <tr>\n",
       "      <th>1</th>\n",
       "      <td>Tommy Hilfiger</td>\n",
       "      <td>Leather Sandals</td>\n",
       "      <td>Rs. 7999</td>\n",
       "    </tr>\n",
       "    <tr>\n",
       "      <th>2</th>\n",
       "      <td>Hush Puppies</td>\n",
       "      <td></td>\n",
       "      <td>Rs. 7199</td>\n",
       "    </tr>\n",
       "    <tr>\n",
       "      <th>3</th>\n",
       "      <td>RARE RABBIT</td>\n",
       "      <td>Men Leather Flat Boots</td>\n",
       "      <td>Rs. 8399</td>\n",
       "    </tr>\n",
       "    <tr>\n",
       "      <th>4</th>\n",
       "      <td>Bugatti</td>\n",
       "      <td>Men Black Walking Shoes</td>\n",
       "      <td>Rs. 8091</td>\n",
       "    </tr>\n",
       "    <tr>\n",
       "      <th>...</th>\n",
       "      <td>...</td>\n",
       "      <td>...</td>\n",
       "      <td>...</td>\n",
       "    </tr>\n",
       "    <tr>\n",
       "      <th>95</th>\n",
       "      <td>Hush Puppies</td>\n",
       "      <td>Men Solid Leather Slip-Ons</td>\n",
       "      <td>Rs. 9265</td>\n",
       "    </tr>\n",
       "    <tr>\n",
       "      <th>96</th>\n",
       "      <td>Geox</td>\n",
       "      <td>Men Leather Formal Derbys</td>\n",
       "      <td>Rs. 11815</td>\n",
       "    </tr>\n",
       "    <tr>\n",
       "      <th>97</th>\n",
       "      <td>RARE RABBIT</td>\n",
       "      <td>Men Textured Leather Loafers</td>\n",
       "      <td>Rs. 8925</td>\n",
       "    </tr>\n",
       "    <tr>\n",
       "      <th>98</th>\n",
       "      <td>J.FONTINI</td>\n",
       "      <td>Men Leather Formal Loafers</td>\n",
       "      <td>Rs. 11175</td>\n",
       "    </tr>\n",
       "    <tr>\n",
       "      <th>99</th>\n",
       "      <td>J.FONTINI</td>\n",
       "      <td>Men Solid Leather Formal Derbys</td>\n",
       "      <td>Rs. 12093</td>\n",
       "    </tr>\n",
       "  </tbody>\n",
       "</table>\n",
       "<p>100 rows × 3 columns</p>\n",
       "</div>"
      ],
      "text/plain": [
       "        Shoe Brand                 Shoe Description Shoe Price\n",
       "0             Puma                Men Running Shoes   Rs. 7149\n",
       "1   Tommy Hilfiger                  Leather Sandals   Rs. 7999\n",
       "2     Hush Puppies                                    Rs. 7199\n",
       "3      RARE RABBIT           Men Leather Flat Boots   Rs. 8399\n",
       "4          Bugatti          Men Black Walking Shoes   Rs. 8091\n",
       "..             ...                              ...        ...\n",
       "95    Hush Puppies       Men Solid Leather Slip-Ons   Rs. 9265\n",
       "96            Geox        Men Leather Formal Derbys  Rs. 11815\n",
       "97     RARE RABBIT     Men Textured Leather Loafers   Rs. 8925\n",
       "98       J.FONTINI       Men Leather Formal Loafers  Rs. 11175\n",
       "99       J.FONTINI  Men Solid Leather Formal Derbys  Rs. 12093\n",
       "\n",
       "[100 rows x 3 columns]"
      ]
     },
     "execution_count": 202,
     "metadata": {},
     "output_type": "execute_result"
    }
   ],
   "source": [
    "# code to extract shoe brand details\n",
    "sbrand = []\n",
    "for i in shoe_urls:\n",
    "    driver.get(i)\n",
    "    try:\n",
    "        shoe_brand = driver.find_elements_by_xpath('//div[@class=\"product-productMetaInfo\"]//h3')\n",
    "        for j in shoe_brand:\n",
    "            sbrand.append(j.text)\n",
    "    except:\n",
    "        sbrand.append(\"---\")\n",
    "\n",
    "# code to extract shoe description\n",
    "sdescriptn = []\n",
    "for i in shoe_urls:\n",
    "    driver.get(i)\n",
    "    try:\n",
    "        shoe_descriptn = driver.find_elements_by_xpath('//div[@class=\"product-productMetaInfo\"]//h4')\n",
    "        for j in shoe_descriptn:\n",
    "            sdescriptn.append(j.text)\n",
    "    except:\n",
    "        sdescriptn.append(\"---\")\n",
    "description=[]\n",
    "for i in range(0, len(sdescriptn), 2):\n",
    "     description.append(sdescriptn[i])\n",
    "\n",
    "# code to extract shoe price\n",
    "sprice = []\n",
    "for i in shoe_urls:\n",
    "    driver.get(i)\n",
    "    try:\n",
    "        shoe_price = driver.find_elements_by_xpath('//span[@class=\"product-discountedPrice\"]')\n",
    "        for j in shoe_price:\n",
    "            sprice.append(j.text)\n",
    "    except:\n",
    "        sprice.append(\"---\")\n",
    "        \n",
    "# checking the length to get the data frame\n",
    "print(\"Lengths of columns:\", len(sbrand), len(description), len(sprice))\n",
    "\n",
    "# creating the data frame now\n",
    "df = pd.DataFrame({})\n",
    "df['Shoe Brand']=sbrand[:100]\n",
    "df['Shoe Description']=description[:100]\n",
    "df['Shoe Price']=sprice[:100]\n",
    "df"
   ]
  },
  {
   "cell_type": "code",
   "execution_count": 132,
   "id": "3ebd18e8",
   "metadata": {},
   "outputs": [],
   "source": [
    "# getting the amazon shopping site url on the web driver\n",
    "url = \"https://www.amazon.in/\"\n",
    "driver.get(url)"
   ]
  },
  {
   "cell_type": "code",
   "execution_count": 133,
   "id": "57944d10",
   "metadata": {},
   "outputs": [],
   "source": [
    "# code to write laptop in the search box\n",
    "search_prod = driver.find_element_by_xpath('//input[@id=\"twotabsearchtextbox\"]')\n",
    "search_prod.send_keys(\"Laptop\")\n",
    "\n",
    "# code to click on the search button\n",
    "search_btn = driver.find_element_by_xpath('//input[@id=\"nav-search-submit-button\"]')\n",
    "search_btn.click()"
   ]
  },
  {
   "cell_type": "code",
   "execution_count": 142,
   "id": "24dfec08",
   "metadata": {},
   "outputs": [],
   "source": [
    "# code to click on the CPU filter for \"Intel Core i7\"\n",
    "CPU1 = driver.find_element_by_xpath('//span[@class=\"a-size-base a-color-base a-text-bold\" ]')\n",
    "CPU1.click()"
   ]
  },
  {
   "cell_type": "code",
   "execution_count": 144,
   "id": "fcfa3d62",
   "metadata": {},
   "outputs": [],
   "source": [
    "# code to click on the CPU filter for \"Intel Core i9\"\n",
    "CPU2 = driver.find_element_by_xpath('//span [@class=\"a-size-base a-color-base a-text-bold\" ]')\n",
    "CPU2.click()"
   ]
  },
  {
   "cell_type": "code",
   "execution_count": 149,
   "id": "21659c20",
   "metadata": {},
   "outputs": [
    {
     "name": "stdout",
     "output_type": "stream",
     "text": [
      "Lengths of columns: 10 10 8\n"
     ]
    },
    {
     "data": {
      "text/html": [
       "<div>\n",
       "<style scoped>\n",
       "    .dataframe tbody tr th:only-of-type {\n",
       "        vertical-align: middle;\n",
       "    }\n",
       "\n",
       "    .dataframe tbody tr th {\n",
       "        vertical-align: top;\n",
       "    }\n",
       "\n",
       "    .dataframe thead th {\n",
       "        text-align: right;\n",
       "    }\n",
       "</style>\n",
       "<table border=\"1\" class=\"dataframe\">\n",
       "  <thead>\n",
       "    <tr style=\"text-align: right;\">\n",
       "      <th></th>\n",
       "      <th>Laptop Title</th>\n",
       "      <th>Laptop Rating</th>\n",
       "      <th>Laptop Price</th>\n",
       "    </tr>\n",
       "  </thead>\n",
       "  <tbody>\n",
       "    <tr>\n",
       "      <th>0</th>\n",
       "      <td>AVITA PURA E14 NSA6ING541-SGC Thin and Light 1...</td>\n",
       "      <td>3.2 out of 5 stars</td>\n",
       "      <td>26,490</td>\n",
       "    </tr>\n",
       "    <tr>\n",
       "      <th>1</th>\n",
       "      <td>AVITA PURA E14 NS14A6ING431-IBB Thin and Light...</td>\n",
       "      <td>4.4 out of 5 stars</td>\n",
       "      <td>22,209</td>\n",
       "    </tr>\n",
       "    <tr>\n",
       "      <th>2</th>\n",
       "      <td>AVITA PURA E14 NS14A6ING541-IBB 14 inches Lapt...</td>\n",
       "      <td>1.0 out of 5 stars</td>\n",
       "      <td>26,990</td>\n",
       "    </tr>\n",
       "    <tr>\n",
       "      <th>3</th>\n",
       "      <td>AVITA PURA E14 NS14A6ING431-CRC Thin and Light...</td>\n",
       "      <td>3.4 out of 5 stars</td>\n",
       "      <td>22,690</td>\n",
       "    </tr>\n",
       "    <tr>\n",
       "      <th>4</th>\n",
       "      <td>AVITA PURA E14 NS14A6ING541 - PFA 14 inches La...</td>\n",
       "      <td>3.8 out of 5 stars</td>\n",
       "      <td>26,990</td>\n",
       "    </tr>\n",
       "    <tr>\n",
       "      <th>5</th>\n",
       "      <td>Acer One 14 cm 35.56 cm (14-inch) Laptop AMD A...</td>\n",
       "      <td>Previous page of related Sponsored Products</td>\n",
       "      <td>22,590</td>\n",
       "    </tr>\n",
       "    <tr>\n",
       "      <th>6</th>\n",
       "      <td>AVITA PURA E14 NS14A6ING541- BPA 14 inches Lap...</td>\n",
       "      <td>4.8 out of 5 stars</td>\n",
       "      <td>22,990</td>\n",
       "    </tr>\n",
       "    <tr>\n",
       "      <th>7</th>\n",
       "      <td>AVITA PURA E14 NS14A6ING431-BPA Thin and Light...</td>\n",
       "      <td>4.1 out of 5 stars</td>\n",
       "      <td>22,690</td>\n",
       "    </tr>\n",
       "  </tbody>\n",
       "</table>\n",
       "</div>"
      ],
      "text/plain": [
       "                                        Laptop Title  \\\n",
       "0  AVITA PURA E14 NSA6ING541-SGC Thin and Light 1...   \n",
       "1  AVITA PURA E14 NS14A6ING431-IBB Thin and Light...   \n",
       "2  AVITA PURA E14 NS14A6ING541-IBB 14 inches Lapt...   \n",
       "3  AVITA PURA E14 NS14A6ING431-CRC Thin and Light...   \n",
       "4  AVITA PURA E14 NS14A6ING541 - PFA 14 inches La...   \n",
       "5  Acer One 14 cm 35.56 cm (14-inch) Laptop AMD A...   \n",
       "6  AVITA PURA E14 NS14A6ING541- BPA 14 inches Lap...   \n",
       "7  AVITA PURA E14 NS14A6ING431-BPA Thin and Light...   \n",
       "\n",
       "                                 Laptop Rating Laptop Price  \n",
       "0                           3.2 out of 5 stars       26,490  \n",
       "1                           4.4 out of 5 stars       22,209  \n",
       "2                           1.0 out of 5 stars       26,990  \n",
       "3                           3.4 out of 5 stars       22,690  \n",
       "4                           3.8 out of 5 stars       26,990  \n",
       "5  Previous page of related Sponsored Products       22,590  \n",
       "6                           4.8 out of 5 stars       22,990  \n",
       "7                           4.1 out of 5 stars       22,690  "
      ]
     },
     "execution_count": 149,
     "metadata": {},
     "output_type": "execute_result"
    }
   ],
   "source": [
    "# code to extract laptop title\n",
    "ltitle=[]\n",
    "lappy_title = driver.find_elements_by_xpath('//span[@class=\"a-size-medium a-color-base a-text-normal\"]')\n",
    "for i in lappy_title[:10]:\n",
    "    ltitle.append(i.text)\n",
    "\n",
    "# code to extract laptop rating\n",
    "lrating=[]\n",
    "lappy_rating = driver.find_elements_by_class_name(\"a-icon-alt\")\n",
    "for i in lappy_rating[:10]:\n",
    "    lrating.append(i.get_attribute('textContent'))\n",
    "\n",
    "# code to extract laptop price\n",
    "lprice=[]\n",
    "lappy_price = driver.find_elements_by_xpath('//span[@class=\"a-price-whole\"]')\n",
    "for i in lappy_price[:10]:\n",
    "    lprice.append(i.text)\n",
    "    \n",
    "# checking the length to get the data frame\n",
    "print(\"Lengths of columns:\", len(ltitle), len(lrating), len(lprice))\n",
    "\n",
    "# creating the data frame now\n",
    "df = pd.DataFrame({})\n",
    "df['Laptop Title']=ltitle[:8]\n",
    "df['Laptop Rating']=lrating[:8]\n",
    "df['Laptop Price']=lprice\n",
    "df"
   ]
  },
  {
   "cell_type": "code",
   "execution_count": null,
   "id": "c4a5241f",
   "metadata": {},
   "outputs": [],
   "source": []
  },
  {
   "cell_type": "code",
   "execution_count": null,
   "id": "01abf023",
   "metadata": {},
   "outputs": [],
   "source": []
  },
  {
   "cell_type": "code",
   "execution_count": null,
   "id": "3f770e7a",
   "metadata": {},
   "outputs": [],
   "source": []
  },
  {
   "cell_type": "code",
   "execution_count": null,
   "id": "b251884f",
   "metadata": {},
   "outputs": [],
   "source": []
  },
  {
   "cell_type": "code",
   "execution_count": null,
   "id": "8288996c",
   "metadata": {},
   "outputs": [],
   "source": []
  },
  {
   "cell_type": "code",
   "execution_count": null,
   "id": "1f3fc93e",
   "metadata": {},
   "outputs": [],
   "source": []
  },
  {
   "cell_type": "code",
   "execution_count": null,
   "id": "d79ebbee",
   "metadata": {},
   "outputs": [],
   "source": []
  },
  {
   "cell_type": "code",
   "execution_count": null,
   "id": "d650f145",
   "metadata": {},
   "outputs": [],
   "source": []
  },
  {
   "cell_type": "code",
   "execution_count": null,
   "id": "76032f43",
   "metadata": {},
   "outputs": [],
   "source": []
  },
  {
   "cell_type": "code",
   "execution_count": null,
   "id": "5ae4871b",
   "metadata": {},
   "outputs": [],
   "source": []
  },
  {
   "cell_type": "code",
   "execution_count": null,
   "id": "cf500950",
   "metadata": {},
   "outputs": [],
   "source": []
  },
  {
   "cell_type": "code",
   "execution_count": null,
   "id": "40d8bbb7",
   "metadata": {},
   "outputs": [],
   "source": []
  },
  {
   "cell_type": "code",
   "execution_count": null,
   "id": "7722bb2a",
   "metadata": {},
   "outputs": [],
   "source": []
  },
  {
   "cell_type": "code",
   "execution_count": null,
   "id": "422d4513",
   "metadata": {},
   "outputs": [],
   "source": []
  },
  {
   "cell_type": "code",
   "execution_count": null,
   "id": "dd27a07e",
   "metadata": {},
   "outputs": [],
   "source": []
  },
  {
   "cell_type": "code",
   "execution_count": null,
   "id": "7b258849",
   "metadata": {},
   "outputs": [],
   "source": []
  },
  {
   "cell_type": "code",
   "execution_count": null,
   "id": "23754a14",
   "metadata": {},
   "outputs": [],
   "source": []
  },
  {
   "cell_type": "code",
   "execution_count": null,
   "id": "a3e85a6d",
   "metadata": {},
   "outputs": [],
   "source": []
  },
  {
   "cell_type": "code",
   "execution_count": null,
   "id": "c7c07093",
   "metadata": {},
   "outputs": [],
   "source": []
  }
 ],
 "metadata": {
  "kernelspec": {
   "display_name": "Python 3",
   "language": "python",
   "name": "python3"
  },
  "language_info": {
   "codemirror_mode": {
    "name": "ipython",
    "version": 3
   },
   "file_extension": ".py",
   "mimetype": "text/x-python",
   "name": "python",
   "nbconvert_exporter": "python",
   "pygments_lexer": "ipython3",
   "version": "3.8.8"
  }
 },
 "nbformat": 4,
 "nbformat_minor": 5
}
